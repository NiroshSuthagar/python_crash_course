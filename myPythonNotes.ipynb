{
 "cells": [
  {
   "cell_type": "code",
   "execution_count": 1,
   "id": "0b9a46fb-7e6e-4849-9a66-c9d565a63498",
   "metadata": {},
   "outputs": [
    {
     "name": "stdout",
     "output_type": "stream",
     "text": [
      "hello world\n"
     ]
    }
   ],
   "source": [
    "print(\"hello world\")"
   ]
  },
  {
   "cell_type": "markdown",
   "id": "1dfd2928-c82d-4c82-9d74-abd694859dcd",
   "metadata": {},
   "source": [
    "# This is a title\n",
    "\n",
    "## This is a subtitle\n",
    "\n",
    "These are my notes:\n",
    "\n",
    "- Point 1\n",
    "- Point 2"
   ]
  },
  {
   "cell_type": "markdown",
   "id": "1f49109c-257b-4622-8b6e-c4280e76ec6d",
   "metadata": {},
   "source": [
    "# Python - Begineer to DA\n",
    "\n",
    "## Week 1\n",
    "\n",
    "\n",
    "- Session 1:\n",
    "  - What is Python?\n",
    "  - Environments\n",
    "  - Data Types\n",
    "  - Primitive vs Complex Data Types\n",
    "  - input() and print() statements\n",
    "\n",
    "- Session 2:\n",
    "  - Control Flow: Sequence\n",
    "    - If, elif, else statements.\n",
    "  - Control Flow: Iteration\n",
    "    - while loops\n",
    "    - for loops\n",
    "\n",
    "- Session 3:\n",
    "  - Recap excercises\n",
    "  - Group Task: Calculator\n",
    "  - Functions\n",
    "  - Group Task: Continued\n",
    "\n"
   ]
  },
  {
   "cell_type": "markdown",
   "id": "a9cf7df8-4606-454d-b644-f6d9867e0ba6",
   "metadata": {},
   "source": [
    "# Session 1\n",
    "\n",
    "## What is Python?\n",
    "\n",
    "- Python is a programming language\n",
    "    - A set of instructions.\n",
    "- Python is open source and extremely popular in industry.\n",
    "- It's a high level programming language (written in almost human language).\n",
    "- Python is CASE SENSISTIVE!\n",
    "- Python counts from 0!\n",
    "- Python is an object-oriented programming language.\n",
    "\n",
    "## Data Types in Python"
   ]
  },
  {
   "cell_type": "markdown",
   "id": "be65db58-ab21-4f8d-a9bd-46b33303b8a2",
   "metadata": {},
   "source": [
    "1. Primitive Data Types:\n",
    "   - integer: whole numbers\n",
    "   - strings: text characters\n",
    "   - float: decimals\n",
    "   - boolean: True/False\n",
    "     \n",
    "2. Collections (complex data types):\n",
    "    - lists [ ] : Most versatile! \n",
    "    - tuples ( ) : Cannot be changed\n",
    "    - sets { } : Does not allow duplicates.\n",
    "    - dictionaries {k:v} : VERY USEFUL!"
   ]
  },
  {
   "cell_type": "markdown",
   "id": "6af86528-d1c1-49a9-9bda-56fde810c81f",
   "metadata": {},
   "source": [
    "input vs print statements:"
   ]
  },
  {
   "cell_type": "code",
   "execution_count": 4,
   "id": "3547e992-9c4d-4607-8279-7aefb37d41b0",
   "metadata": {},
   "outputs": [
    {
     "name": "stdout",
     "output_type": "stream",
     "text": [
      "Hello my name is nirosh\n"
     ]
    }
   ],
   "source": [
    "print(\"Hello my name is nirosh\")"
   ]
  },
  {
   "cell_type": "code",
   "execution_count": 9,
   "id": "5510c99f-566d-475f-bf7f-b2babf19b519",
   "metadata": {},
   "outputs": [
    {
     "name": "stdout",
     "output_type": "stream",
     "text": [
      "Nirosh\n"
     ]
    }
   ],
   "source": [
    "# This is a comment\n",
    "name = \"Nirosh\" ## This will be ingnored\n",
    "print(name)"
   ]
  },
  {
   "cell_type": "code",
   "execution_count": 12,
   "id": "4690be64-c45d-442f-81fe-42d9f4a5b3b6",
   "metadata": {},
   "outputs": [
    {
     "name": "stdin",
     "output_type": "stream",
     "text": [
      "Hey, give me your name... nirosh\n"
     ]
    },
    {
     "name": "stdout",
     "output_type": "stream",
     "text": [
      "Hey nirosh\n"
     ]
    }
   ],
   "source": [
    "# Getting a user input and outputing:\n",
    "name = input('Hey, give me your name...')\n",
    "print('Hey', name)"
   ]
  },
  {
   "cell_type": "code",
   "execution_count": 16,
   "id": "581d1dff-41fc-4bae-9844-efd961d0739e",
   "metadata": {},
   "outputs": [
    {
     "name": "stdin",
     "output_type": "stream",
     "text": [
      "What is your name? Nirosh\n",
      "What is your age? 30\n"
     ]
    },
    {
     "name": "stdout",
     "output_type": "stream",
     "text": [
      "Nirosh 30\n"
     ]
    }
   ],
   "source": [
    "# Get python to take in a name and an age, and output these. \n",
    "name = input('What is your name?')\n",
    "age = input('What is your age?')\n",
    "print(name, age)"
   ]
  },
  {
   "cell_type": "code",
   "execution_count": 21,
   "id": "0e3dbae8-a67f-45a7-a182-1011ca52ad3e",
   "metadata": {},
   "outputs": [
    {
     "name": "stdout",
     "output_type": "stream",
     "text": [
      "Nirosh Suthagar\n"
     ]
    }
   ],
   "source": [
    "# Try running this code:\n",
    "name = 'Nirosh'\n",
    "surname = 'Suthagar'\n",
    "print(name + surname)"
   ]
  },
  {
   "cell_type": "code",
   "execution_count": 22,
   "id": "4e313e33-3f58-423a-a8b8-58c88af108af",
   "metadata": {},
   "outputs": [
    {
     "name": "stdout",
     "output_type": "stream",
     "text": [
      "Nirosh Suthagar\n"
     ]
    }
   ],
   "source": [
    "# Fix the above\n",
    "name = 'Nirosh'\n",
    "surname = 'Suthagar'\n",
    "print(name + ' ' + surname)"
   ]
  },
  {
   "cell_type": "code",
   "execution_count": 23,
   "id": "2d0cd655-c0f7-4e3a-abe9-e5c0f08eca1e",
   "metadata": {},
   "outputs": [
    {
     "ename": "TypeError",
     "evalue": "can only concatenate str (not \"int\") to str",
     "output_type": "error",
     "traceback": [
      "\u001b[0;31m---------------------------------------------------------------------------\u001b[0m",
      "\u001b[0;31mTypeError\u001b[0m                                 Traceback (most recent call last)",
      "Cell \u001b[0;32mIn[23], line 5\u001b[0m\n\u001b[1;32m      3\u001b[0m surname \u001b[38;5;241m=\u001b[39m \u001b[38;5;124m'\u001b[39m\u001b[38;5;124mSuthagar\u001b[39m\u001b[38;5;124m'\u001b[39m\n\u001b[1;32m      4\u001b[0m age \u001b[38;5;241m=\u001b[39m \u001b[38;5;241m30\u001b[39m\n\u001b[0;32m----> 5\u001b[0m \u001b[38;5;28mprint\u001b[39m(name \u001b[38;5;241m+\u001b[39m surname \u001b[38;5;241m+\u001b[39m age)\n",
      "\u001b[0;31mTypeError\u001b[0m: can only concatenate str (not \"int\") to str"
     ]
    }
   ],
   "source": [
    "# Try running this code:\n",
    "name = 'Nirosh'\n",
    "surname = 'Suthagar'\n",
    "age = 30\n",
    "print(name + surname + age)"
   ]
  },
  {
   "cell_type": "code",
   "execution_count": 29,
   "id": "fc55648f-aec4-4c92-bbaf-09984a00c637",
   "metadata": {},
   "outputs": [
    {
     "name": "stdout",
     "output_type": "stream",
     "text": [
      "Nirosh Suthagar 30 \n",
      "NiroshSuthagar30\n"
     ]
    }
   ],
   "source": [
    "# What's wrong?\n",
    "\n",
    "# Solution 1\n",
    "name = 'Nirosh '\n",
    "surname = 'Suthagar '\n",
    "age = '30 '\n",
    "print(name + surname + age)\n",
    "\n",
    "# Solution 2\n",
    "name = 'Nirosh'\n",
    "surname = 'Suthagar'\n",
    "age = 30\n",
    "print(name + surname + str(age))"
   ]
  },
  {
   "cell_type": "markdown",
   "id": "fc2b688e-380f-4e67-80ce-a211361fb28f",
   "metadata": {},
   "source": [
    "! Important ! \n",
    "\n",
    "Casting:\n",
    "- To turn something into a string: str()\n",
    "- To turn something into an int: int()\n",
    "- To turn something into a float: float()\n",
    "\n",
    "Whatever you put in the bracket should be converted!"
   ]
  },
  {
   "cell_type": "code",
   "execution_count": 33,
   "id": "656ea9cb-96e7-4a2c-b776-5947f54b1dee",
   "metadata": {},
   "outputs": [
    {
     "name": "stdin",
     "output_type": "stream",
     "text": [
      "Your name please: Nirosh\n",
      "Your age please: 10\n"
     ]
    },
    {
     "name": "stdout",
     "output_type": "stream",
     "text": [
      "Hey Nirosh in 10 years you will be 20\n"
     ]
    }
   ],
   "source": [
    "# Get a name and an age from the user and tell them how old they would be in 10 years.\n",
    "name = input('Your name please:')\n",
    "age = int(input('Your age please:'))\n",
    "\n",
    "ageToAdd = 10\n",
    "newAge = age + ageToAdd\n",
    "\n",
    "print('Hey', name, 'in 10 years you will be', newAge)"
   ]
  },
  {
   "cell_type": "markdown",
   "id": "ac6c1a8e-02b0-458a-acfb-17569dddf6e7",
   "metadata": {},
   "source": [
    "! Important !\n",
    "\n",
    "Whenever you get an input in python, it gets stored as a string! If you need a number, make sure you cast it."
   ]
  },
  {
   "cell_type": "markdown",
   "id": "dc650ca1-1dc9-4324-a17e-102e3aa6d6ea",
   "metadata": {},
   "source": [
    "Variables should either be in:\n",
    "\n",
    "    - Camel Case (myFirstVariable)\n",
    "    - underscores (my_first_variable)\n",
    "    - all lower case (myfirstvariable)"
   ]
  },
  {
   "cell_type": "markdown",
   "id": "bc0697b2-badd-4ed9-ba23-48b3cd93f295",
   "metadata": {},
   "source": [
    "# Control Flow"
   ]
  },
  {
   "cell_type": "markdown",
   "id": "d3df6ddc-6ca8-4f78-b235-51bc380145d3",
   "metadata": {},
   "source": [
    "1. Sequence\n",
    "2. Selection\n",
    "3. Iteration"
   ]
  },
  {
   "cell_type": "markdown",
   "id": "b978eeb4-62b0-435a-b104-c49859d3e2e6",
   "metadata": {},
   "source": [
    "## Selection: if statement"
   ]
  },
  {
   "cell_type": "code",
   "execution_count": 37,
   "id": "05436266-3e9f-4245-907b-993e3bdb58f4",
   "metadata": {},
   "outputs": [
    {
     "name": "stdout",
     "output_type": "stream",
     "text": [
      "You are a child!\n"
     ]
    }
   ],
   "source": [
    "# IF statement\n",
    "age = 14\n",
    "\n",
    "if age < 18:\n",
    "    print('You are a child!')"
   ]
  },
  {
   "cell_type": "markdown",
   "id": "22b04593-166e-4138-b166-d37ebd994a6e",
   "metadata": {},
   "source": [
    "Operators to remember:\n",
    "\n",
    "- < less than\n",
    "- <= less than or equal to\n",
    "- ```>``` greater than\n",
    "- ```>=``` greater than or equal to\n",
    "- != not equal to\n",
    "- == equivalence"
   ]
  },
  {
   "cell_type": "code",
   "execution_count": 36,
   "id": "4f928061-17a8-4818-b294-946c20fd0419",
   "metadata": {},
   "outputs": [
    {
     "data": {
      "text/plain": [
       "False"
      ]
     },
     "execution_count": 36,
     "metadata": {},
     "output_type": "execute_result"
    }
   ],
   "source": [
    "# The comparison operator for equivalence will give you a True or False output. \n",
    "age = 15\n",
    "limit = 18\n",
    "\n",
    "age == limit"
   ]
  },
  {
   "cell_type": "code",
   "execution_count": 38,
   "id": "edf9d5af-e0de-4585-9b31-312e8c48590d",
   "metadata": {},
   "outputs": [
    {
     "name": "stdout",
     "output_type": "stream",
     "text": [
      "You're a child\n"
     ]
    }
   ],
   "source": [
    "# IF ELSE STATEMENT\n",
    "age = 14\n",
    "\n",
    "if age > 18:\n",
    "    print(\"You're an adult\")\n",
    "else:\n",
    "    print(\"You're a child\")"
   ]
  },
  {
   "cell_type": "code",
   "execution_count": 39,
   "id": "a136f0aa-5a33-48fb-ae28-84ae6e3f82db",
   "metadata": {},
   "outputs": [
    {
     "name": "stdout",
     "output_type": "stream",
     "text": [
      "adult\n"
     ]
    }
   ],
   "source": [
    "# IF ELIF STATEMENT\n",
    "\n",
    "age = 70\n",
    "\n",
    "if age < 18:\n",
    "    print('child')\n",
    "elif age > 18:\n",
    "    print('adult')"
   ]
  },
  {
   "cell_type": "markdown",
   "id": "fc4d84ca-d4e2-4d87-ac57-2645c33a0bd5",
   "metadata": {},
   "source": [
    "### Task: \n",
    "\n",
    "Request a user's sallary, if they earn less than 30,000 they are in Band A. If they earn more than 50,000 they are in Band B. If they they earn more than 100,000, they are band C. \n",
    "\n",
    "Write code that can check and output a user's band based on their sallary."
   ]
  },
  {
   "cell_type": "markdown",
   "id": "9ddbda8e-4f5a-46c1-a761-2914d6c97302",
   "metadata": {},
   "source": [
    "### Stretch: \n",
    "\n",
    "1) If the sallary is between 60,000 and 70,000 they are in Band D. Add this logic!\n",
    "2) In a new cell, change the code so that the user is in Band A if they're under 30,000 or over 100,000."
   ]
  },
  {
   "cell_type": "code",
   "execution_count": 11,
   "id": "685489cf-fa9c-4eda-a052-7818f526f304",
   "metadata": {},
   "outputs": [
    {
     "name": "stdin",
     "output_type": "stream",
     "text": [
      "Hey user, give me your sallary:  40000\n"
     ]
    },
    {
     "name": "stdout",
     "output_type": "stream",
     "text": [
      "Banding Unsure\n"
     ]
    }
   ],
   "source": [
    "# Task\n",
    "\n",
    "salary = int(input('Hey user, give me your sallary: '))\n",
    "\n",
    "if salary>100000:\n",
    "    print('Band C')\n",
    "elif salary >= 50000:\n",
    "    print('Band B')\n",
    "elif salary < 30000:\n",
    "    print('Band A')\n",
    "else:\n",
    "    print('Banding Unsure')"
   ]
  },
  {
   "cell_type": "code",
   "execution_count": 12,
   "id": "161c53cd-eb04-4349-8e2b-b82602661ade",
   "metadata": {},
   "outputs": [
    {
     "name": "stdin",
     "output_type": "stream",
     "text": [
      "Hey user, give me your sallary:  650000\n"
     ]
    },
    {
     "name": "stdout",
     "output_type": "stream",
     "text": [
      "Band C\n"
     ]
    }
   ],
   "source": [
    "# Stretch\n",
    "\n",
    "salary = int(input('Hey user, give me your sallary: '))\n",
    "\n",
    "if salary>100000:\n",
    "    print('Band C')\n",
    "elif salary > 60000 and salary < 70000:\n",
    "    print('Band D')\n",
    "elif salary >= 50000:\n",
    "    print('Band B')\n",
    "elif salary < 30000:\n",
    "    print('Band A')\n",
    "else:\n",
    "    print('Banding Unsure')"
   ]
  },
  {
   "cell_type": "markdown",
   "id": "0bbc461d-32d4-49a5-96c6-e1df5fa02537",
   "metadata": {},
   "source": [
    "# Session 2: Control Flow - Iteration"
   ]
  },
  {
   "cell_type": "markdown",
   "id": "63ff26ba-ce9c-4c77-8b0f-08ee56cc000b",
   "metadata": {},
   "source": [
    "## A while loop\n",
    "\n",
    "A while loop will do something on repeat FOR AS LONG AS a criteria is met."
   ]
  },
  {
   "cell_type": "code",
   "execution_count": 13,
   "id": "ac74ce29-3d7e-427d-80fc-94e41b368e67",
   "metadata": {},
   "outputs": [
    {
     "name": "stdout",
     "output_type": "stream",
     "text": [
      "1\n",
      "2\n",
      "3\n",
      "4\n",
      "5\n",
      "6\n",
      "7\n",
      "8\n",
      "9\n"
     ]
    }
   ],
   "source": [
    "x = 1\n",
    "\n",
    "while x < 10:\n",
    "    print(x)\n",
    "    x = x + 1"
   ]
  },
  {
   "cell_type": "code",
   "execution_count": 15,
   "id": "844014b0-d793-4fca-af06-d4c78ff16152",
   "metadata": {},
   "outputs": [
    {
     "name": "stdout",
     "output_type": "stream",
     "text": [
      "10\n",
      "9\n",
      "8\n",
      "7\n",
      "6\n",
      "5\n",
      "4\n",
      "3\n",
      "2\n",
      "1\n"
     ]
    }
   ],
   "source": [
    "x = 10\n",
    "\n",
    "while x>0:\n",
    "    print(x) \n",
    "    x -= 1 # same as x = x - 1"
   ]
  },
  {
   "cell_type": "markdown",
   "id": "702cd955-7d63-427f-9cb3-80a03b034000",
   "metadata": {},
   "source": [
    "## For Loops\n",
    "\n",
    "Iterates through \"something\" and takes on each value.\n",
    "\n",
    "Let's talk about the range() function first..."
   ]
  },
  {
   "cell_type": "code",
   "execution_count": 17,
   "id": "ab386a3a-bb29-48b3-80de-ba003aeb8b4b",
   "metadata": {},
   "outputs": [
    {
     "name": "stdout",
     "output_type": "stream",
     "text": [
      "0\n",
      "1\n",
      "2\n",
      "3\n",
      "4\n"
     ]
    }
   ],
   "source": [
    "for x in range(5): # range(5) becomes: 0, 1, 2, 3, 4\n",
    "    print(x)"
   ]
  },
  {
   "cell_type": "code",
   "execution_count": 26,
   "id": "14e86ce1-b7ba-44d7-8cc2-0eece67c68d8",
   "metadata": {},
   "outputs": [
    {
     "name": "stdout",
     "output_type": "stream",
     "text": [
      "1\n",
      "2\n",
      "3\n",
      "4\n",
      "5\n",
      "6\n",
      "7\n",
      "8\n",
      "9\n"
     ]
    }
   ],
   "source": [
    "for x in range(1, 10):\n",
    "    print(x)"
   ]
  },
  {
   "cell_type": "code",
   "execution_count": 23,
   "id": "a588c34d-6a05-4f6f-aad7-642c046ecea9",
   "metadata": {},
   "outputs": [
    {
     "name": "stdout",
     "output_type": "stream",
     "text": [
      "10\n",
      "9\n",
      "8\n",
      "7\n",
      "6\n",
      "5\n",
      "4\n",
      "3\n",
      "2\n",
      "1\n"
     ]
    }
   ],
   "source": [
    "for x in range(10, 0, -1): # (START, STOP, STEP)\n",
    "    print(x)"
   ]
  },
  {
   "cell_type": "code",
   "execution_count": 30,
   "id": "09cda315-cebe-46e3-b263-e500e3ef3f47",
   "metadata": {},
   "outputs": [
    {
     "name": "stdout",
     "output_type": "stream",
     "text": [
      "Hello Nirosh\n",
      "Hello Dipti\n",
      "Hello Tanya\n"
     ]
    }
   ],
   "source": [
    "myFirstList = ['Nirosh', 'Dipti', 'Tanya']\n",
    "\n",
    "for elephant in myFirstList:\n",
    "    print('Hello', elephant)"
   ]
  },
  {
   "cell_type": "markdown",
   "id": "adc154c7-e7ff-40ce-a825-dbc9d23d68a3",
   "metadata": {},
   "source": [
    "A FOR loop creates a dummy variable!! - elephant is a whole new variable"
   ]
  },
  {
   "cell_type": "code",
   "execution_count": 43,
   "id": "ad8fe484-42f1-4718-8a2a-66cd25765406",
   "metadata": {},
   "outputs": [
    {
     "name": "stdout",
     "output_type": "stream",
     "text": [
      "67 2024.7261161199958\n"
     ]
    }
   ],
   "source": [
    "interest_rate = 3.9\n",
    "target = 2000\n",
    "investment = 156\n",
    "year = 0\n",
    "\n",
    "while investment <= target:\n",
    "    # After one year\n",
    "    year = year + 1\n",
    "    money_gained = investment * (interest_rate/100)\n",
    "    investment = investment + money_gained\n",
    "\n",
    "print(year, investment)"
   ]
  },
  {
   "cell_type": "markdown",
   "id": "7bc07bca-c2e7-4429-b6a4-776b54e8d316",
   "metadata": {},
   "source": [
    "## Calculator Excercise"
   ]
  },
  {
   "cell_type": "code",
   "execution_count": 4,
   "id": "8029ed37-02c7-461e-a325-aeadf7049547",
   "metadata": {},
   "outputs": [
    {
     "name": "stdin",
     "output_type": "stream",
     "text": [
      "Give me a number 3\n",
      "Give me a second number 4\n",
      "Give me an operator +\n"
     ]
    },
    {
     "name": "stdout",
     "output_type": "stream",
     "text": [
      "7.0\n"
     ]
    }
   ],
   "source": [
    "num1 = float(input('Give me a number'))\n",
    "num2 = float(input('Give me a second number'))\n",
    "operator = input('Give me an operator')\n",
    "\n",
    "if operator == '+':\n",
    "    print(num1 + num2)\n",
    "elif operator == '-':\n",
    "    print(num1-num2)\n",
    "elif operator == '*':\n",
    "    print(num1 * num2)\n",
    "elif operator == '/':\n",
    "    print(num1/num2)"
   ]
  },
  {
   "cell_type": "code",
   "execution_count": 10,
   "id": "b631372d-99fa-47f1-93ed-8967595490ee",
   "metadata": {},
   "outputs": [
    {
     "name": "stdin",
     "output_type": "stream",
     "text": [
      "Give me a number 5\n",
      "Give me a second number 0\n",
      "Give me an operator /\n"
     ]
    },
    {
     "name": "stdout",
     "output_type": "stream",
     "text": [
      "Try that again with a non zero number\n"
     ]
    },
    {
     "name": "stdin",
     "output_type": "stream",
     "text": [
      "Give me a number 5\n",
      "Give me a second number 4\n",
      "Give me an operator /\n"
     ]
    },
    {
     "name": "stdout",
     "output_type": "stream",
     "text": [
      "1.25\n"
     ]
    }
   ],
   "source": [
    "# Stretch Solution:\n",
    "def getUserInput():\n",
    "    num1 = float(input('Give me a number'))\n",
    "    num2 = float(input('Give me a second number'))\n",
    "    operator = input('Give me an operator')\n",
    "    return num1, num2, operator\n",
    "\n",
    "num1, num2, operator = getUserInput()\n",
    "\n",
    "if operator == '+':\n",
    "    print(num1 + num2)\n",
    "elif operator == '-':\n",
    "    print(num1-num2)\n",
    "elif operator == '*':\n",
    "    print(num1 * num2)\n",
    "elif operator == '/': # TRY USING THE FUNCTION TO FIX THE / by 0.\n",
    "    if num2 == 0:\n",
    "        print('Try that again with a non zero number')\n",
    "        num1, num2, operator = getUserInput()\n",
    "    print(num1/num2)\n"
   ]
  },
  {
   "cell_type": "markdown",
   "id": "8bd1b1ef-1c02-41db-a866-3333c28aa120",
   "metadata": {},
   "source": [
    "Task:\n",
    "\n",
    "You need to build a coffee order app. \n",
    "\n",
    "A user must be able to see a menu, choose one or more drinks and you must output the total price."
   ]
  },
  {
   "cell_type": "code",
   "execution_count": null,
   "id": "fb8e68df-e578-492b-b576-fdf23c9faa6b",
   "metadata": {},
   "outputs": [],
   "source": []
  }
 ],
 "metadata": {
  "kernelspec": {
   "display_name": "fastTorch",
   "language": "python",
   "name": "fasttorch"
  },
  "language_info": {
   "codemirror_mode": {
    "name": "ipython",
    "version": 3
   },
   "file_extension": ".py",
   "mimetype": "text/x-python",
   "name": "python",
   "nbconvert_exporter": "python",
   "pygments_lexer": "ipython3",
   "version": "3.12.7"
  }
 },
 "nbformat": 4,
 "nbformat_minor": 5
}
