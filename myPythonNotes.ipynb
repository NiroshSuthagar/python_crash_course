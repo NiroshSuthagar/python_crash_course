{
 "cells": [
  {
   "cell_type": "code",
   "execution_count": null,
   "id": "0b9a46fb-7e6e-4849-9a66-c9d565a63498",
   "metadata": {},
   "outputs": [],
   "source": [
    "print(\"hello world\")"
   ]
  },
  {
   "cell_type": "markdown",
   "id": "1dfd2928-c82d-4c82-9d74-abd694859dcd",
   "metadata": {},
   "source": [
    "# This is a title\n",
    "\n",
    "## This is a subtitle\n",
    "\n",
    "These are my notes:\n",
    "\n",
    "- Point 1\n",
    "- Point 2"
   ]
  },
  {
   "cell_type": "markdown",
   "id": "1f49109c-257b-4622-8b6e-c4280e76ec6d",
   "metadata": {},
   "source": [
    "# Python - Begineer to DA\n",
    "\n",
    "## Week 1\n",
    "\n",
    "\n",
    "- Session 1:\n",
    "  - What is Python?\n",
    "  - Environments\n",
    "  - Data Types\n",
    "  - Primitive vs Complex Data Types\n",
    "  - input() and print() statements\n",
    "\n",
    "- Session 2:\n",
    "  - Control Flow: Sequence\n",
    "    - If, elif, else statements.\n",
    "  - Control Flow: Iteration\n",
    "    - while loops\n",
    "    - for loops\n",
    "\n",
    "- Session 3:\n",
    "  - Recap excercises\n",
    "  - Group Task: Calculator\n",
    "  - Functions\n",
    "  - Group Task: Continued\n",
    "\n"
   ]
  },
  {
   "cell_type": "markdown",
   "id": "a9cf7df8-4606-454d-b644-f6d9867e0ba6",
   "metadata": {},
   "source": [
    "# Session 1\n",
    "\n",
    "## What is Python?\n",
    "\n",
    "- Python is a programming language\n",
    "    - A set of instructions.\n",
    "- Python is open source and extremely popular in industry.\n",
    "- It's a high level programming language (written in almost human language).\n",
    "- Python is CASE SENSISTIVE!\n",
    "- Python counts from 0!\n",
    "- Python is an object-oriented programming language.\n",
    "\n",
    "## Data Types in Python"
   ]
  },
  {
   "cell_type": "markdown",
   "id": "be65db58-ab21-4f8d-a9bd-46b33303b8a2",
   "metadata": {},
   "source": [
    "1. Primitive Data Types:\n",
    "   - integer: whole numbers\n",
    "   - strings: text characters\n",
    "   - float: decimals\n",
    "   - boolean: True/False\n",
    "     \n",
    "2. Collections (complex data types):\n",
    "    - lists [ ] : Most versatile! \n",
    "    - tuples ( ) : Cannot be changed\n",
    "    - sets { } : Does not allow duplicates.\n",
    "    - dictionaries {k:v} : VERY USEFUL!"
   ]
  },
  {
   "cell_type": "markdown",
   "id": "6af86528-d1c1-49a9-9bda-56fde810c81f",
   "metadata": {},
   "source": [
    "input vs print statements:"
   ]
  },
  {
   "cell_type": "code",
   "execution_count": null,
   "id": "3547e992-9c4d-4607-8279-7aefb37d41b0",
   "metadata": {},
   "outputs": [],
   "source": [
    "print(\"Hello my name is nirosh\")"
   ]
  },
  {
   "cell_type": "code",
   "execution_count": null,
   "id": "5510c99f-566d-475f-bf7f-b2babf19b519",
   "metadata": {},
   "outputs": [],
   "source": [
    "# This is a comment\n",
    "name = \"Nirosh\" ## This will be ingnored\n",
    "print(name)"
   ]
  },
  {
   "cell_type": "code",
   "execution_count": null,
   "id": "4690be64-c45d-442f-81fe-42d9f4a5b3b6",
   "metadata": {},
   "outputs": [],
   "source": [
    "# Getting a user input and outputing:\n",
    "name = input('Hey, give me your name...')\n",
    "print('Hey', name)"
   ]
  },
  {
   "cell_type": "code",
   "execution_count": null,
   "id": "581d1dff-41fc-4bae-9844-efd961d0739e",
   "metadata": {},
   "outputs": [],
   "source": [
    "# Get python to take in a name and an age, and output these. \n",
    "name = input('What is your name?')\n",
    "age = input('What is your age?')\n",
    "print(name, age)"
   ]
  },
  {
   "cell_type": "code",
   "execution_count": null,
   "id": "0e3dbae8-a67f-45a7-a182-1011ca52ad3e",
   "metadata": {},
   "outputs": [],
   "source": [
    "# Try running this code:\n",
    "name = 'Nirosh'\n",
    "surname = 'Suthagar'\n",
    "print(name + surname)"
   ]
  },
  {
   "cell_type": "code",
   "execution_count": null,
   "id": "4e313e33-3f58-423a-a8b8-58c88af108af",
   "metadata": {},
   "outputs": [],
   "source": [
    "# Fix the above\n",
    "name = 'Nirosh'\n",
    "surname = 'Suthagar'\n",
    "print(name + ' ' + surname)"
   ]
  },
  {
   "cell_type": "code",
   "execution_count": null,
   "id": "2d0cd655-c0f7-4e3a-abe9-e5c0f08eca1e",
   "metadata": {},
   "outputs": [],
   "source": [
    "# Try running this code:\n",
    "name = 'Nirosh'\n",
    "surname = 'Suthagar'\n",
    "age = 30\n",
    "print(name + surname + age)"
   ]
  },
  {
   "cell_type": "code",
   "execution_count": null,
   "id": "fc55648f-aec4-4c92-bbaf-09984a00c637",
   "metadata": {},
   "outputs": [],
   "source": [
    "# What's wrong?\n",
    "\n",
    "# Solution 1\n",
    "name = 'Nirosh '\n",
    "surname = 'Suthagar '\n",
    "age = '30 '\n",
    "print(name + surname + age)\n",
    "\n",
    "# Solution 2\n",
    "name = 'Nirosh'\n",
    "surname = 'Suthagar'\n",
    "age = 30\n",
    "print(name + surname + str(age))"
   ]
  },
  {
   "cell_type": "markdown",
   "id": "fc2b688e-380f-4e67-80ce-a211361fb28f",
   "metadata": {},
   "source": [
    "! Important ! \n",
    "\n",
    "Casting:\n",
    "- To turn something into a string: str()\n",
    "- To turn something into an int: int()\n",
    "- To turn something into a float: float()\n",
    "\n",
    "Whatever you put in the bracket should be converted!"
   ]
  },
  {
   "cell_type": "code",
   "execution_count": null,
   "id": "656ea9cb-96e7-4a2c-b776-5947f54b1dee",
   "metadata": {},
   "outputs": [],
   "source": [
    "# Get a name and an age from the user and tell them how old they would be in 10 years.\n",
    "name = input('Your name please:')\n",
    "age = int(input('Your age please:'))\n",
    "\n",
    "ageToAdd = 10\n",
    "newAge = age + ageToAdd\n",
    "\n",
    "print('Hey', name, 'in 10 years you will be', newAge)"
   ]
  },
  {
   "cell_type": "markdown",
   "id": "ac6c1a8e-02b0-458a-acfb-17569dddf6e7",
   "metadata": {},
   "source": [
    "! Important !\n",
    "\n",
    "Whenever you get an input in python, it gets stored as a string! If you need a number, make sure you cast it."
   ]
  },
  {
   "cell_type": "markdown",
   "id": "dc650ca1-1dc9-4324-a17e-102e3aa6d6ea",
   "metadata": {},
   "source": [
    "Variables should either be in:\n",
    "\n",
    "    - Camel Case (myFirstVariable)\n",
    "    - underscores (my_first_variable)\n",
    "    - all lower case (myfirstvariable)"
   ]
  },
  {
   "cell_type": "markdown",
   "id": "bc0697b2-badd-4ed9-ba23-48b3cd93f295",
   "metadata": {},
   "source": [
    "# Control Flow"
   ]
  },
  {
   "cell_type": "markdown",
   "id": "d3df6ddc-6ca8-4f78-b235-51bc380145d3",
   "metadata": {},
   "source": [
    "1. Sequence\n",
    "2. Selection\n",
    "3. Iteration"
   ]
  },
  {
   "cell_type": "markdown",
   "id": "b978eeb4-62b0-435a-b104-c49859d3e2e6",
   "metadata": {},
   "source": [
    "## Selection: if statement"
   ]
  },
  {
   "cell_type": "code",
   "execution_count": null,
   "id": "05436266-3e9f-4245-907b-993e3bdb58f4",
   "metadata": {},
   "outputs": [],
   "source": [
    "# IF statement\n",
    "age = 14\n",
    "\n",
    "if age < 18:\n",
    "    print('You are a child!')"
   ]
  },
  {
   "cell_type": "markdown",
   "id": "22b04593-166e-4138-b166-d37ebd994a6e",
   "metadata": {},
   "source": [
    "Operators to remember:\n",
    "\n",
    "- < less than\n",
    "- <= less than or equal to\n",
    "- ```>``` greater than\n",
    "- ```>=``` greater than or equal to\n",
    "- != not equal to\n",
    "- == equivalence"
   ]
  },
  {
   "cell_type": "code",
   "execution_count": null,
   "id": "4f928061-17a8-4818-b294-946c20fd0419",
   "metadata": {},
   "outputs": [],
   "source": [
    "# The comparison operator for equivalence will give you a True or False output. \n",
    "age = 15\n",
    "limit = 18\n",
    "\n",
    "age == limit"
   ]
  },
  {
   "cell_type": "code",
   "execution_count": null,
   "id": "edf9d5af-e0de-4585-9b31-312e8c48590d",
   "metadata": {},
   "outputs": [],
   "source": [
    "# IF ELSE STATEMENT\n",
    "age = 14\n",
    "\n",
    "if age > 18:\n",
    "    print(\"You're an adult\")\n",
    "else:\n",
    "    print(\"You're a child\")"
   ]
  },
  {
   "cell_type": "code",
   "execution_count": null,
   "id": "a136f0aa-5a33-48fb-ae28-84ae6e3f82db",
   "metadata": {},
   "outputs": [],
   "source": [
    "# IF ELIF STATEMENT\n",
    "\n",
    "age = 70\n",
    "\n",
    "if age < 18:\n",
    "    print('child')\n",
    "elif age > 18:\n",
    "    print('adult')"
   ]
  },
  {
   "cell_type": "markdown",
   "id": "fc4d84ca-d4e2-4d87-ac57-2645c33a0bd5",
   "metadata": {},
   "source": [
    "### Task: \n",
    "\n",
    "Request a user's sallary, if they earn less than 30,000 they are in Band A. If they earn more than 50,000 they are in Band B. If they they earn more than 100,000, they are band C. \n",
    "\n",
    "Write code that can check and output a user's band based on their sallary."
   ]
  },
  {
   "cell_type": "markdown",
   "id": "9ddbda8e-4f5a-46c1-a761-2914d6c97302",
   "metadata": {},
   "source": [
    "### Stretch: \n",
    "\n",
    "1) If the sallary is between 60,000 and 70,000 they are in Band D. Add this logic!\n",
    "2) In a new cell, change the code so that the user is in Band A if they're under 30,000 or over 100,000."
   ]
  },
  {
   "cell_type": "code",
   "execution_count": null,
   "id": "685489cf-fa9c-4eda-a052-7818f526f304",
   "metadata": {},
   "outputs": [],
   "source": [
    "# Task\n",
    "\n",
    "salary = int(input('Hey user, give me your sallary: '))\n",
    "\n",
    "if salary>100000:\n",
    "    print('Band C')\n",
    "elif salary >= 50000:\n",
    "    print('Band B')\n",
    "elif salary < 30000:\n",
    "    print('Band A')\n",
    "else:\n",
    "    print('Banding Unsure')"
   ]
  },
  {
   "cell_type": "code",
   "execution_count": null,
   "id": "161c53cd-eb04-4349-8e2b-b82602661ade",
   "metadata": {},
   "outputs": [],
   "source": [
    "# Stretch\n",
    "\n",
    "salary = int(input('Hey user, give me your sallary: '))\n",
    "\n",
    "if salary>100000:\n",
    "    print('Band C')\n",
    "elif salary > 60000 and salary < 70000:\n",
    "    print('Band D')\n",
    "elif salary >= 50000:\n",
    "    print('Band B')\n",
    "elif salary < 30000:\n",
    "    print('Band A')\n",
    "else:\n",
    "    print('Banding Unsure')"
   ]
  },
  {
   "cell_type": "markdown",
   "id": "0bbc461d-32d4-49a5-96c6-e1df5fa02537",
   "metadata": {},
   "source": [
    "# Session 2: Control Flow - Iteration"
   ]
  },
  {
   "cell_type": "markdown",
   "id": "63ff26ba-ce9c-4c77-8b0f-08ee56cc000b",
   "metadata": {},
   "source": [
    "## A while loop\n",
    "\n",
    "A while loop will do something on repeat FOR AS LONG AS a criteria is met."
   ]
  },
  {
   "cell_type": "code",
   "execution_count": null,
   "id": "ac74ce29-3d7e-427d-80fc-94e41b368e67",
   "metadata": {},
   "outputs": [],
   "source": [
    "x = 1\n",
    "\n",
    "while x < 10:\n",
    "    print(x)\n",
    "    x = x + 1"
   ]
  },
  {
   "cell_type": "code",
   "execution_count": null,
   "id": "844014b0-d793-4fca-af06-d4c78ff16152",
   "metadata": {},
   "outputs": [],
   "source": [
    "x = 10\n",
    "\n",
    "while x>0:\n",
    "    print(x) \n",
    "    x -= 1 # same as x = x - 1"
   ]
  },
  {
   "cell_type": "markdown",
   "id": "702cd955-7d63-427f-9cb3-80a03b034000",
   "metadata": {},
   "source": [
    "## For Loops\n",
    "\n",
    "Iterates through \"something\" and takes on each value.\n",
    "\n",
    "Let's talk about the range() function first..."
   ]
  },
  {
   "cell_type": "code",
   "execution_count": null,
   "id": "ab386a3a-bb29-48b3-80de-ba003aeb8b4b",
   "metadata": {},
   "outputs": [],
   "source": [
    "for x in range(5): # range(5) becomes: 0, 1, 2, 3, 4\n",
    "    print(x)"
   ]
  },
  {
   "cell_type": "code",
   "execution_count": null,
   "id": "14e86ce1-b7ba-44d7-8cc2-0eece67c68d8",
   "metadata": {},
   "outputs": [],
   "source": [
    "for x in range(1, 10):\n",
    "    print(x)"
   ]
  },
  {
   "cell_type": "code",
   "execution_count": null,
   "id": "a588c34d-6a05-4f6f-aad7-642c046ecea9",
   "metadata": {},
   "outputs": [],
   "source": [
    "for x in range(10, 0, -1): # (START, STOP, STEP)\n",
    "    print(x)"
   ]
  },
  {
   "cell_type": "code",
   "execution_count": null,
   "id": "09cda315-cebe-46e3-b263-e500e3ef3f47",
   "metadata": {},
   "outputs": [],
   "source": [
    "myFirstList = ['Nirosh', 'Dipti', 'Tanya']\n",
    "\n",
    "for elephant in myFirstList:\n",
    "    print('Hello', elephant)"
   ]
  },
  {
   "cell_type": "markdown",
   "id": "adc154c7-e7ff-40ce-a825-dbc9d23d68a3",
   "metadata": {},
   "source": [
    "A FOR loop creates a dummy variable!! - elephant is a whole new variable"
   ]
  },
  {
   "cell_type": "code",
   "execution_count": null,
   "id": "ad8fe484-42f1-4718-8a2a-66cd25765406",
   "metadata": {},
   "outputs": [],
   "source": [
    "interest_rate = 3.9\n",
    "target = 2000\n",
    "investment = 156\n",
    "year = 0\n",
    "\n",
    "while investment <= target:\n",
    "    # After one year\n",
    "    year = year + 1\n",
    "    money_gained = investment * (interest_rate/100)\n",
    "    investment = investment + money_gained\n",
    "\n",
    "print(year, investment)"
   ]
  },
  {
   "cell_type": "markdown",
   "id": "7bc07bca-c2e7-4429-b6a4-776b54e8d316",
   "metadata": {},
   "source": [
    "## Calculator Excercise"
   ]
  },
  {
   "cell_type": "code",
   "execution_count": null,
   "id": "8029ed37-02c7-461e-a325-aeadf7049547",
   "metadata": {},
   "outputs": [],
   "source": [
    "num1 = float(input('Give me a number'))\n",
    "num2 = float(input('Give me a second number'))\n",
    "operator = input('Give me an operator')\n",
    "\n",
    "if operator == '+':\n",
    "    print(num1 + num2)\n",
    "elif operator == '-':\n",
    "    print(num1-num2)\n",
    "elif operator == '*':\n",
    "    print(num1 * num2)\n",
    "elif operator == '/':\n",
    "    print(num1/num2)"
   ]
  },
  {
   "cell_type": "code",
   "execution_count": null,
   "id": "b631372d-99fa-47f1-93ed-8967595490ee",
   "metadata": {},
   "outputs": [],
   "source": [
    "# Stretch Solution:\n",
    "def getUserInput():\n",
    "    num1 = float(input('Give me a number'))\n",
    "    num2 = float(input('Give me a second number'))\n",
    "    operator = input('Give me an operator')\n",
    "    return num1, num2, operator\n",
    "\n",
    "num1, num2, operator = getUserInput()\n",
    "\n",
    "if operator == '+':\n",
    "    print(num1 + num2)\n",
    "elif operator == '-':\n",
    "    print(num1-num2)\n",
    "elif operator == '*':\n",
    "    print(num1 * num2)\n",
    "elif operator == '/': # TRY USING THE FUNCTION TO FIX THE / by 0.\n",
    "    if num2 == 0:\n",
    "        print('Try that again with a non zero number')\n",
    "        num1, num2, operator = getUserInput()\n",
    "    print(num1/num2)\n"
   ]
  },
  {
   "cell_type": "markdown",
   "id": "8bd1b1ef-1c02-41db-a866-3333c28aa120",
   "metadata": {},
   "source": [
    "Task:\n",
    "\n",
    "You need to build a coffee order app. \n",
    "\n",
    "A user must be able to see a menu, choose one or more drinks and you must output the total price."
   ]
  },
  {
   "cell_type": "markdown",
   "id": "56bf45ee",
   "metadata": {},
   "source": [
    "# Lists & Strings"
   ]
  },
  {
   "cell_type": "code",
   "execution_count": null,
   "id": "f036a760",
   "metadata": {},
   "outputs": [],
   "source": [
    "names = ['Nirosh', 'Shilpa', 'Jimmy']\n",
    "print(names)"
   ]
  },
  {
   "cell_type": "code",
   "execution_count": null,
   "id": "0ec98147",
   "metadata": {},
   "outputs": [],
   "source": [
    "random = ['Tom', 3.12, True, 5]\n",
    "print(random)"
   ]
  },
  {
   "cell_type": "markdown",
   "id": "9114cb5c",
   "metadata": {},
   "source": [
    "## Indexing"
   ]
  },
  {
   "cell_type": "markdown",
   "id": "0d4919c8",
   "metadata": {},
   "source": [
    "This is how we retrieve information from a list."
   ]
  },
  {
   "cell_type": "code",
   "execution_count": null,
   "id": "fcad1ae1",
   "metadata": {},
   "outputs": [],
   "source": [
    "# Selecting the first element in the names list\n",
    "\n",
    "random[3]"
   ]
  },
  {
   "cell_type": "markdown",
   "id": "a869723f",
   "metadata": {},
   "source": [
    "# Slicing"
   ]
  },
  {
   "cell_type": "code",
   "execution_count": null,
   "id": "8c1c52de",
   "metadata": {},
   "outputs": [],
   "source": [
    "numbers = [13,24,4,56,112,885,2323,765,890,5,12,66,231]\n",
    "\n",
    "# Hint: LIST[START:STOP:STEP]\n",
    "## Default is 0 for start and 1 for step. \n",
    "\n",
    "print(numbers[0:3])\n",
    "print(numbers[1:6])\n",
    "print(numbers[-1]) # Last number\n",
    "print(numbers[:6])\n",
    "print(numbers[11::-1])\n",
    "print(len(numbers)) # Gives the number of items in the list"
   ]
  },
  {
   "cell_type": "markdown",
   "id": "8e28422c",
   "metadata": {},
   "source": [
    "# List Methods"
   ]
  },
  {
   "cell_type": "markdown",
   "id": "062b5306",
   "metadata": {},
   "source": [
    "There are LOADS of these..."
   ]
  },
  {
   "cell_type": "code",
   "execution_count": null,
   "id": "6edf00f2",
   "metadata": {},
   "outputs": [],
   "source": [
    "myEmptyList = []\n",
    "\n",
    "myEmptyList.append(11)\n",
    "\n",
    "print(myEmptyList)"
   ]
  },
  {
   "cell_type": "code",
   "execution_count": null,
   "id": "b1440061",
   "metadata": {},
   "outputs": [],
   "source": [
    "list_2 = [1,2,4,2]\n",
    "\n",
    "list_2.remove(2)\n",
    "\n",
    "print(list_2)"
   ]
  },
  {
   "cell_type": "code",
   "execution_count": null,
   "id": "2f103b0c",
   "metadata": {},
   "outputs": [],
   "source": [
    "list_3 = ['Nirosh', 'A', 'C', 'X', 'D']\n",
    "list_3.sort()\n",
    "print(list_3)\n"
   ]
  },
  {
   "cell_type": "markdown",
   "id": "e1224e7e",
   "metadata": {},
   "source": [
    "# Strings"
   ]
  },
  {
   "cell_type": "code",
   "execution_count": null,
   "id": "59a10797",
   "metadata": {},
   "outputs": [],
   "source": [
    "myFirstString = 'Hello, this is a course about Python'"
   ]
  },
  {
   "cell_type": "code",
   "execution_count": null,
   "id": "de8bcf28",
   "metadata": {},
   "outputs": [],
   "source": [
    "myFirstString[0]"
   ]
  },
  {
   "cell_type": "code",
   "execution_count": null,
   "id": "6a4e1250",
   "metadata": {},
   "outputs": [],
   "source": [
    "myFirstString[0:8]"
   ]
  },
  {
   "cell_type": "code",
   "execution_count": null,
   "id": "1f328d7e",
   "metadata": {},
   "outputs": [],
   "source": [
    "# Important: lists vs strings\n",
    "\n",
    "numbers = [1,2,3]\n",
    "numbers[2] = 555\n",
    "print(numbers)\n",
    "\n",
    "# In strings you CANNOT DO THE ABOVE!"
   ]
  },
  {
   "cell_type": "code",
   "execution_count": null,
   "id": "bdf63d2c",
   "metadata": {},
   "outputs": [],
   "source": [
    "# There are loads of STRING METHODS\n",
    "myFirstString.upper()"
   ]
  },
  {
   "cell_type": "code",
   "execution_count": null,
   "id": "03c7f10a",
   "metadata": {},
   "outputs": [],
   "source": [
    "myFirstString.lower()"
   ]
  },
  {
   "cell_type": "code",
   "execution_count": null,
   "id": "0729ba1c",
   "metadata": {},
   "outputs": [],
   "source": [
    "myFirstString.title()"
   ]
  },
  {
   "cell_type": "code",
   "execution_count": null,
   "id": "1bc03588",
   "metadata": {},
   "outputs": [],
   "source": [
    "myFirstString.find('Python')"
   ]
  },
  {
   "cell_type": "code",
   "execution_count": null,
   "id": "04e434cd",
   "metadata": {},
   "outputs": [],
   "source": [
    "# STRETCH - Finding the length of the word Python.\n",
    "counter = 0\n",
    "for letter in myFirstString[30:]:\n",
    "    if letter == ' ':\n",
    "        break\n",
    "    counter = counter + 1\n",
    "print(counter)"
   ]
  },
  {
   "cell_type": "code",
   "execution_count": null,
   "id": "6e18306f",
   "metadata": {},
   "outputs": [],
   "source": [
    "myFirstString[30:]"
   ]
  },
  {
   "cell_type": "code",
   "execution_count": null,
   "id": "4bb6cd3e",
   "metadata": {},
   "outputs": [],
   "source": [
    "len(myFirstString)"
   ]
  },
  {
   "cell_type": "code",
   "execution_count": null,
   "id": "8f0c9b79",
   "metadata": {},
   "outputs": [],
   "source": [
    "text = \"Hello, Python!\"\n",
    "\n",
    "print(text[::2])"
   ]
  },
  {
   "cell_type": "markdown",
   "id": "daae927d",
   "metadata": {},
   "source": [
    "# Tuples"
   ]
  },
  {
   "cell_type": "markdown",
   "id": "fe2413eb",
   "metadata": {},
   "source": [
    "A tuple is an unchangable collection of items!"
   ]
  },
  {
   "cell_type": "code",
   "execution_count": null,
   "id": "9af91912",
   "metadata": {},
   "outputs": [],
   "source": [
    "myFirstTuple = ()\n",
    "print(myFirstTuple)"
   ]
  },
  {
   "cell_type": "code",
   "execution_count": null,
   "id": "90413c53",
   "metadata": {},
   "outputs": [],
   "source": [
    "mySecondTuple = ('StudentA', 98, 'Europe')\n",
    "print(mySecondTuple)"
   ]
  },
  {
   "cell_type": "code",
   "execution_count": null,
   "id": "20cfa99f",
   "metadata": {},
   "outputs": [],
   "source": [
    "# Task: Create a tuple of your top 5 food and drinks (and print it)...\n",
    "myFaves = ('Pizza', 'Lasagna', 'Fried Rice', 'Mango Lassi', 'Cake')\n",
    "myFaves"
   ]
  },
  {
   "cell_type": "code",
   "execution_count": null,
   "id": "dd0f9837",
   "metadata": {},
   "outputs": [],
   "source": [
    "myFaves[0:2]"
   ]
  },
  {
   "cell_type": "code",
   "execution_count": null,
   "id": "28cd25c1",
   "metadata": {},
   "outputs": [],
   "source": [
    "# Packing and Unpacking Tuples\n",
    "user = ('nirosh', 'id03', 'blue')"
   ]
  },
  {
   "cell_type": "code",
   "execution_count": null,
   "id": "bffa8f97",
   "metadata": {},
   "outputs": [],
   "source": [
    "# Unpacking\n",
    "fname, id, color = user\n",
    "print(fname)\n",
    "print(id)\n",
    "print(color)"
   ]
  },
  {
   "cell_type": "code",
   "execution_count": null,
   "id": "4a79624a",
   "metadata": {},
   "outputs": [],
   "source": [
    "# Try this:\n",
    "user[0] = 'Tom'"
   ]
  },
  {
   "cell_type": "code",
   "execution_count": null,
   "id": "33867f89",
   "metadata": {},
   "outputs": [],
   "source": [
    "myFaveDrinks = ('Water', 'Rose Milk', 'Coconut Water')\n",
    "print(myFaves)\n",
    "print(myFaveDrinks)"
   ]
  },
  {
   "cell_type": "code",
   "execution_count": null,
   "id": "3d269f19",
   "metadata": {},
   "outputs": [],
   "source": [
    "newFaves = myFaveDrinks + myFaves\n",
    "newFaves"
   ]
  },
  {
   "cell_type": "markdown",
   "id": "cc287f7c",
   "metadata": {},
   "source": [
    "# Sets"
   ]
  },
  {
   "cell_type": "markdown",
   "id": "65e08b38",
   "metadata": {},
   "source": [
    "Sets are unique colletion of items denoted by {}.\n",
    "\n",
    "Sets are unordered!"
   ]
  },
  {
   "cell_type": "code",
   "execution_count": null,
   "id": "e9059c8d",
   "metadata": {},
   "outputs": [],
   "source": [
    "myFirstSet = {2,5,4,5,34}\n",
    "print(myFirstSet)"
   ]
  },
  {
   "cell_type": "code",
   "execution_count": null,
   "id": "91d0489c",
   "metadata": {},
   "outputs": [],
   "source": [
    "# This way is not used often AT ALL\n",
    "mySecondSet = set(['Nirosh', 'Dipti', 'Jimmy'])\n",
    "mySecondSet #Notebooks are designed to output the last line by default. Useful for experimentation but not best practise in production!"
   ]
  },
  {
   "cell_type": "markdown",
   "id": "02216568",
   "metadata": {},
   "source": [
    "Set Methods"
   ]
  },
  {
   "cell_type": "code",
   "execution_count": null,
   "id": "29c74309",
   "metadata": {},
   "outputs": [],
   "source": [
    "myFirstSet.add(333)\n",
    "myFirstSet"
   ]
  },
  {
   "cell_type": "code",
   "execution_count": null,
   "id": "aefd67bc",
   "metadata": {},
   "outputs": [],
   "source": [
    "myFirstSet.update([222,444,555])\n",
    "myFirstSet"
   ]
  },
  {
   "cell_type": "code",
   "execution_count": null,
   "id": "43eafddf",
   "metadata": {},
   "outputs": [],
   "source": [
    "myFirstSet.pop()"
   ]
  },
  {
   "cell_type": "code",
   "execution_count": null,
   "id": "9cfacd82",
   "metadata": {},
   "outputs": [],
   "source": [
    "questionPerson = {\n",
    "    'Dipti',\n",
    "    'Jaimini',\n",
    "    'Anjumol',\n",
    "    'Shilpa',\n",
    "    'Jimmy'\n",
    "}"
   ]
  },
  {
   "cell_type": "code",
   "execution_count": null,
   "id": "b297b4e1",
   "metadata": {},
   "outputs": [],
   "source": [
    "print(questionPerson.pop())\n",
    "print(questionPerson)"
   ]
  },
  {
   "cell_type": "code",
   "execution_count": null,
   "id": "a91cf97a",
   "metadata": {},
   "outputs": [],
   "source": [
    "# Something useful\n",
    "if 'Jimmy' in questionPerson:\n",
    "    print('Hello Jimmy')"
   ]
  },
  {
   "cell_type": "markdown",
   "id": "eda99167",
   "metadata": {},
   "source": [
    "## Set Operators"
   ]
  },
  {
   "cell_type": "code",
   "execution_count": null,
   "id": "e6c79e05",
   "metadata": {},
   "outputs": [],
   "source": [
    "# Union - concatenates both sets\n",
    "set_A = {1,2,3}\n",
    "set_B = {3,4,5}\n",
    "\n",
    "union_set = set_A | set_B\n",
    "union_set"
   ]
  },
  {
   "cell_type": "code",
   "execution_count": null,
   "id": "7081cb86",
   "metadata": {},
   "outputs": [],
   "source": [
    "# Intersection - Returns the set with all common items.\n",
    "intersection_set = set_A & set_B\n",
    "intersection_set"
   ]
  },
  {
   "cell_type": "code",
   "execution_count": null,
   "id": "a35f8761",
   "metadata": {},
   "outputs": [],
   "source": [
    "# Difference - Returns the unique items in set B that aren't in set A:\n",
    "difference_set = set_B - set_A\n",
    "difference_set"
   ]
  },
  {
   "cell_type": "code",
   "execution_count": null,
   "id": "a43f7892",
   "metadata": {},
   "outputs": [],
   "source": [
    "print(set_A, set_B)"
   ]
  },
  {
   "cell_type": "code",
   "execution_count": null,
   "id": "ac99c8d9",
   "metadata": {},
   "outputs": [],
   "source": [
    "# Summetric Difference - Returns values that appear in either one of the sets.\n",
    "symmetric_output = set_A ^ set_B\n",
    "symmetric_output"
   ]
  },
  {
   "cell_type": "code",
   "execution_count": null,
   "id": "a0e1a9c6",
   "metadata": {},
   "outputs": [],
   "source": [
    "numbers = [10, 20, 30, 20, 10, 50, 60, 40, 80, 50, 40]\n",
    "\n",
    "answer = list(set(numbers))\n",
    "answer"
   ]
  },
  {
   "cell_type": "markdown",
   "id": "12370de1",
   "metadata": {},
   "source": [
    "# Dictionaries"
   ]
  },
  {
   "cell_type": "markdown",
   "id": "19c47ae0",
   "metadata": {},
   "source": [
    "What is a dictionary?\n",
    "\n",
    "- An unordered collection of data values stored in key:value pair.\n",
    "- Each key is unique.\n",
    "- Values can be duplicated.\n",
    "- Stretch: Look into Hash Tables or Associative Arrays."
   ]
  },
  {
   "cell_type": "code",
   "execution_count": null,
   "id": "560cb677",
   "metadata": {},
   "outputs": [],
   "source": [
    "myFirstDict = {\n",
    "    'Jaimini': 1.5,\n",
    "    'Dipti': 1.6,\n",
    "    'Anjumol': 1.75,\n",
    "    'Shilpa': 1.67,\n",
    "    'Jimmy': 1.56\n",
    "}"
   ]
  },
  {
   "cell_type": "markdown",
   "id": "8d0b772e",
   "metadata": {},
   "source": [
    "you can also use the dict() but this is less common."
   ]
  },
  {
   "cell_type": "code",
   "execution_count": null,
   "id": "0b7eb93c",
   "metadata": {},
   "outputs": [],
   "source": [
    "# Retrieving Information\n",
    "myFirstDict['Jimmy']"
   ]
  },
  {
   "cell_type": "code",
   "execution_count": null,
   "id": "16451d3e",
   "metadata": {},
   "outputs": [],
   "source": [
    "# Adding a new entry \n",
    "myFirstDict['Nirosh'] = 1.5\n",
    "myFirstDict"
   ]
  },
  {
   "cell_type": "code",
   "execution_count": null,
   "id": "3b5831c8",
   "metadata": {},
   "outputs": [],
   "source": [
    "# Remove a key:value pair\n",
    "del myFirstDict['Nirosh']\n",
    "myFirstDict"
   ]
  },
  {
   "cell_type": "code",
   "execution_count": null,
   "id": "58c7c96e",
   "metadata": {},
   "outputs": [],
   "source": [
    "# Items\n",
    "myFirstDict.items()"
   ]
  },
  {
   "cell_type": "code",
   "execution_count": null,
   "id": "a2616fc3",
   "metadata": {},
   "outputs": [],
   "source": [
    "# Iterating through a dictionary:\n",
    "for key, value in myFirstDict.items():\n",
    "print(f'The learner, {key} has a height of {value}.')"
   ]
  },
  {
   "cell_type": "code",
   "execution_count": null,
   "id": "c3788927",
   "metadata": {},
   "outputs": [],
   "source": [
    "# len()\n",
    "len(myFirstDict)"
   ]
  },
  {
   "cell_type": "code",
   "execution_count": null,
   "id": "2a09bf42",
   "metadata": {},
   "outputs": [],
   "source": [
    "# Nesting Dictionaries\n",
    "students = {\n",
    "    \"Dipti\": {\"age\":25, \"expertise\":\"science\"},\n",
    "    \"Shilpa\": {\"age\":26, \"expertise\":\"maths\"}\n",
    "}\n",
    "students"
   ]
  },
  {
   "cell_type": "code",
   "execution_count": null,
   "id": "14e129c4",
   "metadata": {},
   "outputs": [],
   "source": [
    "print(students['Dipti']['age'])"
   ]
  },
  {
   "cell_type": "code",
   "execution_count": null,
   "id": "47f149f3",
   "metadata": {},
   "outputs": [],
   "source": [
    "search = ['age', 'expertise']\n",
    "\n",
    "for x in search:\n",
    "    print(students['Dipti'][x])"
   ]
  },
  {
   "cell_type": "code",
   "execution_count": null,
   "id": "6a0e38f1",
   "metadata": {},
   "outputs": [],
   "source": [
    "# Adding a new nested value\n",
    "students['Nirosh'] = {'age':25,'expertise':'data'}\n",
    "students"
   ]
  },
  {
   "cell_type": "markdown",
   "id": "70590b40",
   "metadata": {},
   "source": [
    "# Libraries"
   ]
  },
  {
   "cell_type": "markdown",
   "id": "9c54b4be",
   "metadata": {},
   "source": [
    "Some important libraries:\n",
    "- Numpy\n",
    "- Pandas\n",
    "- Matplotlib\n",
    "- Seaborn\n",
    "- SciKitLearn"
   ]
  },
  {
   "cell_type": "markdown",
   "id": "f6441c5a",
   "metadata": {},
   "source": [
    "Numpy:\n",
    "\n",
    "Python is rather slow (in its vanilla format).\n",
    "\n",
    "Numpy was introduced to make Python faster by using the data structure called Arrays. "
   ]
  },
  {
   "cell_type": "code",
   "execution_count": null,
   "id": "268d0803",
   "metadata": {},
   "outputs": [],
   "source": [
    "import numpy as np"
   ]
  },
  {
   "cell_type": "code",
   "execution_count": null,
   "id": "75e25c64",
   "metadata": {},
   "outputs": [],
   "source": [
    "myFirstArray = np.array([1,3,5,7,9])\n",
    "print(myFirstArray)"
   ]
  },
  {
   "cell_type": "markdown",
   "id": "593453cc",
   "metadata": {},
   "source": [
    "## Pandas\n",
    "\n",
    "This is a VERY important library!\n",
    "\n",
    "Pandas is used to work with strucutred data. It is our tool for data handling!\n",
    "\n",
    "Pandas is build on top of numpy."
   ]
  },
  {
   "cell_type": "code",
   "execution_count": null,
   "id": "5e3cb99e",
   "metadata": {},
   "outputs": [],
   "source": [
    "import pandas as pd"
   ]
  },
  {
   "cell_type": "code",
   "execution_count": null,
   "id": "42589ca5",
   "metadata": {},
   "outputs": [],
   "source": [
    "import numpy as np"
   ]
  },
  {
   "cell_type": "code",
   "execution_count": null,
   "id": "21bd767c",
   "metadata": {},
   "outputs": [],
   "source": [
    "sampleData = {\n",
    "    'Person' : ['Nirosh', 'Nirosh', 'Dipti', 'Anjumol', 'Shilpa', 'Jimmy'],\n",
    "    'Python Confident': [np.nan, np.nan, 4.5, 5, 4, 4],\n",
    "    'Hobby' : ['Reading', 'Reading', 'Travelling', 'Gardening', 'Music', 'Hiking'],\n",
    "    'House Number': [96, 96, 6, 11, 7, 19],\n",
    "    'Interview Confidence' : [5, 5, 2.5, 3, 4, 4]\n",
    "}"
   ]
  },
  {
   "cell_type": "code",
   "execution_count": null,
   "id": "10a11563",
   "metadata": {},
   "outputs": [],
   "source": [
    "sampleData2 = {\n",
    "    'Name': 'Nirosh',\n",
    "    'Height' : 30,\n",
    "    'Eye Col' : 'Brown'\n",
    "}"
   ]
  },
  {
   "cell_type": "markdown",
   "id": "6cde0864",
   "metadata": {},
   "source": [
    "In Pandas you need to know about two new data structures:\n",
    "1. Series\n",
    "2. Dataframe"
   ]
  },
  {
   "cell_type": "code",
   "execution_count": null,
   "id": "da4fbba3",
   "metadata": {},
   "outputs": [],
   "source": [
    "x = pd.Series([2,4,6,8,10])\n",
    "x"
   ]
  },
  {
   "cell_type": "code",
   "execution_count": null,
   "id": "71bbc53b",
   "metadata": {},
   "outputs": [],
   "source": [
    "# A series object is like a column. It has a value array and an index array:\n",
    "print(x.values)\n",
    "print(x.index)"
   ]
  },
  {
   "cell_type": "code",
   "execution_count": null,
   "id": "a960da83",
   "metadata": {},
   "outputs": [],
   "source": [
    "# This means we can index a Series!\n",
    "x[3]"
   ]
  },
  {
   "cell_type": "markdown",
   "id": "eab1de11",
   "metadata": {},
   "source": [
    "A Pandas Dataframe is what we use to store strucutred data (in rows and columns)!"
   ]
  },
  {
   "cell_type": "code",
   "execution_count": null,
   "id": "83ed8cc2",
   "metadata": {},
   "outputs": [],
   "source": [
    "df = pd.DataFrame(sampleData)"
   ]
  },
  {
   "cell_type": "markdown",
   "id": "428ab5a8",
   "metadata": {},
   "source": [
    "run: df.describe()"
   ]
  },
  {
   "cell_type": "code",
   "execution_count": null,
   "id": "5fd74f5d",
   "metadata": {},
   "outputs": [],
   "source": [
    "df.head()"
   ]
  },
  {
   "cell_type": "code",
   "execution_count": null,
   "id": "010ae5e6",
   "metadata": {},
   "outputs": [],
   "source": [
    "# Removing duplicates\n",
    "df.drop_duplicates(inplace=True)\n",
    "df.head()\n"
   ]
  },
  {
   "cell_type": "code",
   "execution_count": null,
   "id": "605445bc",
   "metadata": {},
   "outputs": [],
   "source": [
    "# Fillna Values\n",
    "df.fillna(0, inplace=True)\n",
    "df.head()"
   ]
  },
  {
   "cell_type": "code",
   "execution_count": null,
   "id": "f6908233",
   "metadata": {},
   "outputs": [],
   "source": [
    "# Selecting a column\n",
    "df['Person']"
   ]
  },
  {
   "cell_type": "code",
   "execution_count": null,
   "id": "3384a8c7",
   "metadata": {},
   "outputs": [],
   "source": [
    "# OR \n",
    "\n",
    "df.Person"
   ]
  },
  {
   "cell_type": "code",
   "execution_count": null,
   "id": "7448b899",
   "metadata": {},
   "outputs": [],
   "source": [
    "# Sorting by column\n",
    "df.sort_values(by=['Interview Confidence'])"
   ]
  },
  {
   "cell_type": "code",
   "execution_count": null,
   "id": "2fe56aaa",
   "metadata": {},
   "outputs": [],
   "source": [
    "# Filtering Columnns\n",
    "df[df.Hobby == 'Reading']"
   ]
  },
  {
   "cell_type": "code",
   "execution_count": null,
   "id": "07567a10",
   "metadata": {},
   "outputs": [],
   "source": [
    "df[df['Python Confident'] > 4]"
   ]
  },
  {
   "cell_type": "markdown",
   "id": "6e0fd831",
   "metadata": {},
   "source": [
    "# Working with CSVs to visualise data"
   ]
  },
  {
   "cell_type": "code",
   "execution_count": 36,
   "id": "4de1836f",
   "metadata": {},
   "outputs": [],
   "source": [
    "import pandas as pd\n",
    "import matplotlib.pyplot as plt"
   ]
  },
  {
   "cell_type": "code",
   "execution_count": 37,
   "id": "214e8358",
   "metadata": {},
   "outputs": [
    {
     "data": {
      "text/html": [
       "<div>\n",
       "<style scoped>\n",
       "    .dataframe tbody tr th:only-of-type {\n",
       "        vertical-align: middle;\n",
       "    }\n",
       "\n",
       "    .dataframe tbody tr th {\n",
       "        vertical-align: top;\n",
       "    }\n",
       "\n",
       "    .dataframe thead th {\n",
       "        text-align: right;\n",
       "    }\n",
       "</style>\n",
       "<table border=\"1\" class=\"dataframe\">\n",
       "  <thead>\n",
       "    <tr style=\"text-align: right;\">\n",
       "      <th></th>\n",
       "      <th>InvoiceNo</th>\n",
       "      <th>StockCode</th>\n",
       "      <th>Description</th>\n",
       "      <th>Quantity</th>\n",
       "      <th>InvoiceDate</th>\n",
       "      <th>UnitPrice</th>\n",
       "      <th>CustomerID</th>\n",
       "      <th>Country</th>\n",
       "    </tr>\n",
       "  </thead>\n",
       "  <tbody>\n",
       "    <tr>\n",
       "      <th>0</th>\n",
       "      <td>536365</td>\n",
       "      <td>85123A</td>\n",
       "      <td>WHITE HANGING HEART T-LIGHT HOLDER</td>\n",
       "      <td>6</td>\n",
       "      <td>01-12-2010 08:26</td>\n",
       "      <td>2.55</td>\n",
       "      <td>17850.0</td>\n",
       "      <td>United Kingdom</td>\n",
       "    </tr>\n",
       "    <tr>\n",
       "      <th>1</th>\n",
       "      <td>536365</td>\n",
       "      <td>71053</td>\n",
       "      <td>WHITE METAL LANTERN</td>\n",
       "      <td>6</td>\n",
       "      <td>01-12-2010 08:26</td>\n",
       "      <td>3.39</td>\n",
       "      <td>17850.0</td>\n",
       "      <td>United Kingdom</td>\n",
       "    </tr>\n",
       "    <tr>\n",
       "      <th>2</th>\n",
       "      <td>536365</td>\n",
       "      <td>84406B</td>\n",
       "      <td>CREAM CUPID HEARTS COAT HANGER</td>\n",
       "      <td>8</td>\n",
       "      <td>01-12-2010 08:26</td>\n",
       "      <td>2.75</td>\n",
       "      <td>17850.0</td>\n",
       "      <td>United Kingdom</td>\n",
       "    </tr>\n",
       "    <tr>\n",
       "      <th>3</th>\n",
       "      <td>536365</td>\n",
       "      <td>84029G</td>\n",
       "      <td>KNITTED UNION FLAG HOT WATER BOTTLE</td>\n",
       "      <td>6</td>\n",
       "      <td>01-12-2010 08:26</td>\n",
       "      <td>3.39</td>\n",
       "      <td>17850.0</td>\n",
       "      <td>United Kingdom</td>\n",
       "    </tr>\n",
       "    <tr>\n",
       "      <th>4</th>\n",
       "      <td>536365</td>\n",
       "      <td>84029E</td>\n",
       "      <td>RED WOOLLY HOTTIE WHITE HEART.</td>\n",
       "      <td>6</td>\n",
       "      <td>01-12-2010 08:26</td>\n",
       "      <td>3.39</td>\n",
       "      <td>17850.0</td>\n",
       "      <td>United Kingdom</td>\n",
       "    </tr>\n",
       "  </tbody>\n",
       "</table>\n",
       "</div>"
      ],
      "text/plain": [
       "  InvoiceNo StockCode                          Description  Quantity  \\\n",
       "0    536365    85123A   WHITE HANGING HEART T-LIGHT HOLDER         6   \n",
       "1    536365     71053                  WHITE METAL LANTERN         6   \n",
       "2    536365    84406B       CREAM CUPID HEARTS COAT HANGER         8   \n",
       "3    536365    84029G  KNITTED UNION FLAG HOT WATER BOTTLE         6   \n",
       "4    536365    84029E       RED WOOLLY HOTTIE WHITE HEART.         6   \n",
       "\n",
       "        InvoiceDate  UnitPrice  CustomerID         Country  \n",
       "0  01-12-2010 08:26       2.55     17850.0  United Kingdom  \n",
       "1  01-12-2010 08:26       3.39     17850.0  United Kingdom  \n",
       "2  01-12-2010 08:26       2.75     17850.0  United Kingdom  \n",
       "3  01-12-2010 08:26       3.39     17850.0  United Kingdom  \n",
       "4  01-12-2010 08:26       3.39     17850.0  United Kingdom  "
      ]
     },
     "execution_count": 37,
     "metadata": {},
     "output_type": "execute_result"
    }
   ],
   "source": [
    "# Loading the dataset\n",
    "\n",
    "data = pd.read_csv('data/Online Retail Data Set.csv', encoding='latin1')\n",
    "data.head()"
   ]
  },
  {
   "cell_type": "code",
   "execution_count": 38,
   "id": "50e93561",
   "metadata": {},
   "outputs": [
    {
     "name": "stdout",
     "output_type": "stream",
     "text": [
      "(541909, 8)\n"
     ]
    }
   ],
   "source": [
    "print(data.shape)\n"
   ]
  },
  {
   "cell_type": "code",
   "execution_count": 39,
   "id": "fd2ac417",
   "metadata": {},
   "outputs": [
    {
     "data": {
      "text/html": [
       "<div>\n",
       "<style scoped>\n",
       "    .dataframe tbody tr th:only-of-type {\n",
       "        vertical-align: middle;\n",
       "    }\n",
       "\n",
       "    .dataframe tbody tr th {\n",
       "        vertical-align: top;\n",
       "    }\n",
       "\n",
       "    .dataframe thead th {\n",
       "        text-align: right;\n",
       "    }\n",
       "</style>\n",
       "<table border=\"1\" class=\"dataframe\">\n",
       "  <thead>\n",
       "    <tr style=\"text-align: right;\">\n",
       "      <th></th>\n",
       "      <th>InvoiceNo</th>\n",
       "      <th>StockCode</th>\n",
       "      <th>Description</th>\n",
       "      <th>Quantity</th>\n",
       "      <th>InvoiceDate</th>\n",
       "      <th>UnitPrice</th>\n",
       "      <th>CustomerID</th>\n",
       "      <th>Country</th>\n",
       "    </tr>\n",
       "  </thead>\n",
       "  <tbody>\n",
       "    <tr>\n",
       "      <th>0</th>\n",
       "      <td>536365</td>\n",
       "      <td>85123A</td>\n",
       "      <td>WHITE HANGING HEART T-LIGHT HOLDER</td>\n",
       "      <td>6</td>\n",
       "      <td>01-12-2010 08:26</td>\n",
       "      <td>2.55</td>\n",
       "      <td>17850.0</td>\n",
       "      <td>United Kingdom</td>\n",
       "    </tr>\n",
       "    <tr>\n",
       "      <th>1</th>\n",
       "      <td>536365</td>\n",
       "      <td>71053</td>\n",
       "      <td>WHITE METAL LANTERN</td>\n",
       "      <td>6</td>\n",
       "      <td>01-12-2010 08:26</td>\n",
       "      <td>3.39</td>\n",
       "      <td>17850.0</td>\n",
       "      <td>United Kingdom</td>\n",
       "    </tr>\n",
       "    <tr>\n",
       "      <th>2</th>\n",
       "      <td>536365</td>\n",
       "      <td>84406B</td>\n",
       "      <td>CREAM CUPID HEARTS COAT HANGER</td>\n",
       "      <td>8</td>\n",
       "      <td>01-12-2010 08:26</td>\n",
       "      <td>2.75</td>\n",
       "      <td>17850.0</td>\n",
       "      <td>United Kingdom</td>\n",
       "    </tr>\n",
       "    <tr>\n",
       "      <th>3</th>\n",
       "      <td>536365</td>\n",
       "      <td>84029G</td>\n",
       "      <td>KNITTED UNION FLAG HOT WATER BOTTLE</td>\n",
       "      <td>6</td>\n",
       "      <td>01-12-2010 08:26</td>\n",
       "      <td>3.39</td>\n",
       "      <td>17850.0</td>\n",
       "      <td>United Kingdom</td>\n",
       "    </tr>\n",
       "    <tr>\n",
       "      <th>4</th>\n",
       "      <td>536365</td>\n",
       "      <td>84029E</td>\n",
       "      <td>RED WOOLLY HOTTIE WHITE HEART.</td>\n",
       "      <td>6</td>\n",
       "      <td>01-12-2010 08:26</td>\n",
       "      <td>3.39</td>\n",
       "      <td>17850.0</td>\n",
       "      <td>United Kingdom</td>\n",
       "    </tr>\n",
       "  </tbody>\n",
       "</table>\n",
       "</div>"
      ],
      "text/plain": [
       "  InvoiceNo StockCode                          Description  Quantity  \\\n",
       "0    536365    85123A   WHITE HANGING HEART T-LIGHT HOLDER         6   \n",
       "1    536365     71053                  WHITE METAL LANTERN         6   \n",
       "2    536365    84406B       CREAM CUPID HEARTS COAT HANGER         8   \n",
       "3    536365    84029G  KNITTED UNION FLAG HOT WATER BOTTLE         6   \n",
       "4    536365    84029E       RED WOOLLY HOTTIE WHITE HEART.         6   \n",
       "\n",
       "        InvoiceDate  UnitPrice  CustomerID         Country  \n",
       "0  01-12-2010 08:26       2.55     17850.0  United Kingdom  \n",
       "1  01-12-2010 08:26       3.39     17850.0  United Kingdom  \n",
       "2  01-12-2010 08:26       2.75     17850.0  United Kingdom  \n",
       "3  01-12-2010 08:26       3.39     17850.0  United Kingdom  \n",
       "4  01-12-2010 08:26       3.39     17850.0  United Kingdom  "
      ]
     },
     "execution_count": 39,
     "metadata": {},
     "output_type": "execute_result"
    }
   ],
   "source": [
    "data.head()"
   ]
  },
  {
   "cell_type": "markdown",
   "id": "af6042aa",
   "metadata": {},
   "source": [
    "# Data Enrichment"
   ]
  },
  {
   "cell_type": "code",
   "execution_count": 40,
   "id": "f30a3de5",
   "metadata": {},
   "outputs": [
    {
     "data": {
      "text/plain": [
       "InvoiceNo           0\n",
       "StockCode           0\n",
       "Description      1454\n",
       "Quantity            0\n",
       "InvoiceDate         0\n",
       "UnitPrice           0\n",
       "CustomerID     135080\n",
       "Country             0\n",
       "dtype: int64"
      ]
     },
     "execution_count": 40,
     "metadata": {},
     "output_type": "execute_result"
    }
   ],
   "source": [
    "# Checking for NAs\n",
    "data.isna().sum()"
   ]
  },
  {
   "cell_type": "code",
   "execution_count": 41,
   "id": "1174c886",
   "metadata": {},
   "outputs": [],
   "source": [
    "missing_products = data[data.Description.isna()]\n",
    "missing_products.head()\n",
    "\n",
    "# Saving that as a csv that we can email to get fixed by the data owners.\n",
    "missing_products.to_csv('data/missing_products.csv')"
   ]
  },
  {
   "cell_type": "code",
   "execution_count": 42,
   "id": "fc955243",
   "metadata": {},
   "outputs": [],
   "source": [
    "missing_custIDs = data[data.CustomerID.isna()]\n",
    "missing_custIDs.head()\n",
    "\n",
    "missing_custIDs.to_csv('data/missing_custID.csv')"
   ]
  },
  {
   "cell_type": "code",
   "execution_count": 43,
   "id": "581e822e",
   "metadata": {},
   "outputs": [],
   "source": [
    "data_cleaned = data.dropna()"
   ]
  },
  {
   "cell_type": "code",
   "execution_count": 44,
   "id": "f03b73ba",
   "metadata": {},
   "outputs": [
    {
     "data": {
      "text/html": [
       "<div>\n",
       "<style scoped>\n",
       "    .dataframe tbody tr th:only-of-type {\n",
       "        vertical-align: middle;\n",
       "    }\n",
       "\n",
       "    .dataframe tbody tr th {\n",
       "        vertical-align: top;\n",
       "    }\n",
       "\n",
       "    .dataframe thead th {\n",
       "        text-align: right;\n",
       "    }\n",
       "</style>\n",
       "<table border=\"1\" class=\"dataframe\">\n",
       "  <thead>\n",
       "    <tr style=\"text-align: right;\">\n",
       "      <th></th>\n",
       "      <th>InvoiceNo</th>\n",
       "      <th>StockCode</th>\n",
       "      <th>Description</th>\n",
       "      <th>Quantity</th>\n",
       "      <th>InvoiceDate</th>\n",
       "      <th>UnitPrice</th>\n",
       "      <th>CustomerID</th>\n",
       "      <th>Country</th>\n",
       "    </tr>\n",
       "  </thead>\n",
       "  <tbody>\n",
       "    <tr>\n",
       "      <th>0</th>\n",
       "      <td>536365</td>\n",
       "      <td>85123A</td>\n",
       "      <td>WHITE HANGING HEART T-LIGHT HOLDER</td>\n",
       "      <td>6</td>\n",
       "      <td>01-12-2010 08:26</td>\n",
       "      <td>2.55</td>\n",
       "      <td>17850.0</td>\n",
       "      <td>United Kingdom</td>\n",
       "    </tr>\n",
       "    <tr>\n",
       "      <th>1</th>\n",
       "      <td>536365</td>\n",
       "      <td>71053</td>\n",
       "      <td>WHITE METAL LANTERN</td>\n",
       "      <td>6</td>\n",
       "      <td>01-12-2010 08:26</td>\n",
       "      <td>3.39</td>\n",
       "      <td>17850.0</td>\n",
       "      <td>United Kingdom</td>\n",
       "    </tr>\n",
       "    <tr>\n",
       "      <th>2</th>\n",
       "      <td>536365</td>\n",
       "      <td>84406B</td>\n",
       "      <td>CREAM CUPID HEARTS COAT HANGER</td>\n",
       "      <td>8</td>\n",
       "      <td>01-12-2010 08:26</td>\n",
       "      <td>2.75</td>\n",
       "      <td>17850.0</td>\n",
       "      <td>United Kingdom</td>\n",
       "    </tr>\n",
       "    <tr>\n",
       "      <th>3</th>\n",
       "      <td>536365</td>\n",
       "      <td>84029G</td>\n",
       "      <td>KNITTED UNION FLAG HOT WATER BOTTLE</td>\n",
       "      <td>6</td>\n",
       "      <td>01-12-2010 08:26</td>\n",
       "      <td>3.39</td>\n",
       "      <td>17850.0</td>\n",
       "      <td>United Kingdom</td>\n",
       "    </tr>\n",
       "    <tr>\n",
       "      <th>4</th>\n",
       "      <td>536365</td>\n",
       "      <td>84029E</td>\n",
       "      <td>RED WOOLLY HOTTIE WHITE HEART.</td>\n",
       "      <td>6</td>\n",
       "      <td>01-12-2010 08:26</td>\n",
       "      <td>3.39</td>\n",
       "      <td>17850.0</td>\n",
       "      <td>United Kingdom</td>\n",
       "    </tr>\n",
       "  </tbody>\n",
       "</table>\n",
       "</div>"
      ],
      "text/plain": [
       "  InvoiceNo StockCode                          Description  Quantity  \\\n",
       "0    536365    85123A   WHITE HANGING HEART T-LIGHT HOLDER         6   \n",
       "1    536365     71053                  WHITE METAL LANTERN         6   \n",
       "2    536365    84406B       CREAM CUPID HEARTS COAT HANGER         8   \n",
       "3    536365    84029G  KNITTED UNION FLAG HOT WATER BOTTLE         6   \n",
       "4    536365    84029E       RED WOOLLY HOTTIE WHITE HEART.         6   \n",
       "\n",
       "        InvoiceDate  UnitPrice  CustomerID         Country  \n",
       "0  01-12-2010 08:26       2.55     17850.0  United Kingdom  \n",
       "1  01-12-2010 08:26       3.39     17850.0  United Kingdom  \n",
       "2  01-12-2010 08:26       2.75     17850.0  United Kingdom  \n",
       "3  01-12-2010 08:26       3.39     17850.0  United Kingdom  \n",
       "4  01-12-2010 08:26       3.39     17850.0  United Kingdom  "
      ]
     },
     "execution_count": 44,
     "metadata": {},
     "output_type": "execute_result"
    }
   ],
   "source": [
    "data_cleaned.head()"
   ]
  },
  {
   "cell_type": "code",
   "execution_count": 45,
   "id": "ef071f2e",
   "metadata": {},
   "outputs": [
    {
     "name": "stderr",
     "output_type": "stream",
     "text": [
      "/var/folders/c3/1g8s1kz57t5fy4f84jm4vjwr0000gn/T/ipykernel_36665/3632766028.py:2: SettingWithCopyWarning: \n",
      "A value is trying to be set on a copy of a slice from a DataFrame\n",
      "\n",
      "See the caveats in the documentation: https://pandas.pydata.org/pandas-docs/stable/user_guide/indexing.html#returning-a-view-versus-a-copy\n",
      "  data_cleaned.drop_duplicates(inplace=True)\n"
     ]
    },
    {
     "data": {
      "text/plain": [
       "(401604, 8)"
      ]
     },
     "execution_count": 45,
     "metadata": {},
     "output_type": "execute_result"
    }
   ],
   "source": [
    "# Checking for duplicates\n",
    "data_cleaned.drop_duplicates(inplace=True)\n",
    "data_cleaned.shape"
   ]
  },
  {
   "cell_type": "code",
   "execution_count": 46,
   "id": "2c2d2500",
   "metadata": {},
   "outputs": [
    {
     "name": "stderr",
     "output_type": "stream",
     "text": [
      "/var/folders/c3/1g8s1kz57t5fy4f84jm4vjwr0000gn/T/ipykernel_36665/494168631.py:1: SettingWithCopyWarning: \n",
      "A value is trying to be set on a copy of a slice from a DataFrame.\n",
      "Try using .loc[row_indexer,col_indexer] = value instead\n",
      "\n",
      "See the caveats in the documentation: https://pandas.pydata.org/pandas-docs/stable/user_guide/indexing.html#returning-a-view-versus-a-copy\n",
      "  data_cleaned['gross_profit'] = data_cleaned.UnitPrice * data_cleaned.Quantity\n"
     ]
    },
    {
     "data": {
      "text/html": [
       "<div>\n",
       "<style scoped>\n",
       "    .dataframe tbody tr th:only-of-type {\n",
       "        vertical-align: middle;\n",
       "    }\n",
       "\n",
       "    .dataframe tbody tr th {\n",
       "        vertical-align: top;\n",
       "    }\n",
       "\n",
       "    .dataframe thead th {\n",
       "        text-align: right;\n",
       "    }\n",
       "</style>\n",
       "<table border=\"1\" class=\"dataframe\">\n",
       "  <thead>\n",
       "    <tr style=\"text-align: right;\">\n",
       "      <th></th>\n",
       "      <th>InvoiceNo</th>\n",
       "      <th>StockCode</th>\n",
       "      <th>Description</th>\n",
       "      <th>Quantity</th>\n",
       "      <th>InvoiceDate</th>\n",
       "      <th>UnitPrice</th>\n",
       "      <th>CustomerID</th>\n",
       "      <th>Country</th>\n",
       "      <th>gross_profit</th>\n",
       "    </tr>\n",
       "  </thead>\n",
       "  <tbody>\n",
       "    <tr>\n",
       "      <th>0</th>\n",
       "      <td>536365</td>\n",
       "      <td>85123A</td>\n",
       "      <td>WHITE HANGING HEART T-LIGHT HOLDER</td>\n",
       "      <td>6</td>\n",
       "      <td>01-12-2010 08:26</td>\n",
       "      <td>2.55</td>\n",
       "      <td>17850.0</td>\n",
       "      <td>United Kingdom</td>\n",
       "      <td>15.30</td>\n",
       "    </tr>\n",
       "    <tr>\n",
       "      <th>1</th>\n",
       "      <td>536365</td>\n",
       "      <td>71053</td>\n",
       "      <td>WHITE METAL LANTERN</td>\n",
       "      <td>6</td>\n",
       "      <td>01-12-2010 08:26</td>\n",
       "      <td>3.39</td>\n",
       "      <td>17850.0</td>\n",
       "      <td>United Kingdom</td>\n",
       "      <td>20.34</td>\n",
       "    </tr>\n",
       "    <tr>\n",
       "      <th>2</th>\n",
       "      <td>536365</td>\n",
       "      <td>84406B</td>\n",
       "      <td>CREAM CUPID HEARTS COAT HANGER</td>\n",
       "      <td>8</td>\n",
       "      <td>01-12-2010 08:26</td>\n",
       "      <td>2.75</td>\n",
       "      <td>17850.0</td>\n",
       "      <td>United Kingdom</td>\n",
       "      <td>22.00</td>\n",
       "    </tr>\n",
       "    <tr>\n",
       "      <th>3</th>\n",
       "      <td>536365</td>\n",
       "      <td>84029G</td>\n",
       "      <td>KNITTED UNION FLAG HOT WATER BOTTLE</td>\n",
       "      <td>6</td>\n",
       "      <td>01-12-2010 08:26</td>\n",
       "      <td>3.39</td>\n",
       "      <td>17850.0</td>\n",
       "      <td>United Kingdom</td>\n",
       "      <td>20.34</td>\n",
       "    </tr>\n",
       "    <tr>\n",
       "      <th>4</th>\n",
       "      <td>536365</td>\n",
       "      <td>84029E</td>\n",
       "      <td>RED WOOLLY HOTTIE WHITE HEART.</td>\n",
       "      <td>6</td>\n",
       "      <td>01-12-2010 08:26</td>\n",
       "      <td>3.39</td>\n",
       "      <td>17850.0</td>\n",
       "      <td>United Kingdom</td>\n",
       "      <td>20.34</td>\n",
       "    </tr>\n",
       "  </tbody>\n",
       "</table>\n",
       "</div>"
      ],
      "text/plain": [
       "  InvoiceNo StockCode                          Description  Quantity  \\\n",
       "0    536365    85123A   WHITE HANGING HEART T-LIGHT HOLDER         6   \n",
       "1    536365     71053                  WHITE METAL LANTERN         6   \n",
       "2    536365    84406B       CREAM CUPID HEARTS COAT HANGER         8   \n",
       "3    536365    84029G  KNITTED UNION FLAG HOT WATER BOTTLE         6   \n",
       "4    536365    84029E       RED WOOLLY HOTTIE WHITE HEART.         6   \n",
       "\n",
       "        InvoiceDate  UnitPrice  CustomerID         Country  gross_profit  \n",
       "0  01-12-2010 08:26       2.55     17850.0  United Kingdom         15.30  \n",
       "1  01-12-2010 08:26       3.39     17850.0  United Kingdom         20.34  \n",
       "2  01-12-2010 08:26       2.75     17850.0  United Kingdom         22.00  \n",
       "3  01-12-2010 08:26       3.39     17850.0  United Kingdom         20.34  \n",
       "4  01-12-2010 08:26       3.39     17850.0  United Kingdom         20.34  "
      ]
     },
     "execution_count": 46,
     "metadata": {},
     "output_type": "execute_result"
    }
   ],
   "source": [
    "data_cleaned['gross_profit'] = data_cleaned.UnitPrice * data_cleaned.Quantity\n",
    "data_cleaned.head()"
   ]
  },
  {
   "cell_type": "code",
   "execution_count": 47,
   "id": "260fa96e",
   "metadata": {},
   "outputs": [
    {
     "name": "stdout",
     "output_type": "stream",
     "text": [
      "<class 'pandas.core.frame.DataFrame'>\n",
      "Index: 401604 entries, 0 to 541908\n",
      "Data columns (total 9 columns):\n",
      " #   Column        Non-Null Count   Dtype  \n",
      "---  ------        --------------   -----  \n",
      " 0   InvoiceNo     401604 non-null  object \n",
      " 1   StockCode     401604 non-null  object \n",
      " 2   Description   401604 non-null  object \n",
      " 3   Quantity      401604 non-null  int64  \n",
      " 4   InvoiceDate   401604 non-null  object \n",
      " 5   UnitPrice     401604 non-null  float64\n",
      " 6   CustomerID    401604 non-null  float64\n",
      " 7   Country       401604 non-null  object \n",
      " 8   gross_profit  401604 non-null  float64\n",
      "dtypes: float64(3), int64(1), object(5)\n",
      "memory usage: 30.6+ MB\n"
     ]
    }
   ],
   "source": [
    "# Cleaning the data column\n",
    "data_cleaned.info()"
   ]
  },
  {
   "cell_type": "code",
   "execution_count": 48,
   "id": "3f6786b6",
   "metadata": {},
   "outputs": [
    {
     "data": {
      "text/html": [
       "<div>\n",
       "<style scoped>\n",
       "    .dataframe tbody tr th:only-of-type {\n",
       "        vertical-align: middle;\n",
       "    }\n",
       "\n",
       "    .dataframe tbody tr th {\n",
       "        vertical-align: top;\n",
       "    }\n",
       "\n",
       "    .dataframe thead th {\n",
       "        text-align: right;\n",
       "    }\n",
       "</style>\n",
       "<table border=\"1\" class=\"dataframe\">\n",
       "  <thead>\n",
       "    <tr style=\"text-align: right;\">\n",
       "      <th></th>\n",
       "      <th>InvoiceNo</th>\n",
       "      <th>StockCode</th>\n",
       "      <th>Description</th>\n",
       "      <th>Quantity</th>\n",
       "      <th>InvoiceDate</th>\n",
       "      <th>UnitPrice</th>\n",
       "      <th>CustomerID</th>\n",
       "      <th>Country</th>\n",
       "      <th>gross_profit</th>\n",
       "    </tr>\n",
       "  </thead>\n",
       "  <tbody>\n",
       "    <tr>\n",
       "      <th>0</th>\n",
       "      <td>536365</td>\n",
       "      <td>85123A</td>\n",
       "      <td>WHITE HANGING HEART T-LIGHT HOLDER</td>\n",
       "      <td>6</td>\n",
       "      <td>01-12-2010 08:26</td>\n",
       "      <td>2.55</td>\n",
       "      <td>17850.0</td>\n",
       "      <td>United Kingdom</td>\n",
       "      <td>15.30</td>\n",
       "    </tr>\n",
       "    <tr>\n",
       "      <th>1</th>\n",
       "      <td>536365</td>\n",
       "      <td>71053</td>\n",
       "      <td>WHITE METAL LANTERN</td>\n",
       "      <td>6</td>\n",
       "      <td>01-12-2010 08:26</td>\n",
       "      <td>3.39</td>\n",
       "      <td>17850.0</td>\n",
       "      <td>United Kingdom</td>\n",
       "      <td>20.34</td>\n",
       "    </tr>\n",
       "    <tr>\n",
       "      <th>2</th>\n",
       "      <td>536365</td>\n",
       "      <td>84406B</td>\n",
       "      <td>CREAM CUPID HEARTS COAT HANGER</td>\n",
       "      <td>8</td>\n",
       "      <td>01-12-2010 08:26</td>\n",
       "      <td>2.75</td>\n",
       "      <td>17850.0</td>\n",
       "      <td>United Kingdom</td>\n",
       "      <td>22.00</td>\n",
       "    </tr>\n",
       "    <tr>\n",
       "      <th>3</th>\n",
       "      <td>536365</td>\n",
       "      <td>84029G</td>\n",
       "      <td>KNITTED UNION FLAG HOT WATER BOTTLE</td>\n",
       "      <td>6</td>\n",
       "      <td>01-12-2010 08:26</td>\n",
       "      <td>3.39</td>\n",
       "      <td>17850.0</td>\n",
       "      <td>United Kingdom</td>\n",
       "      <td>20.34</td>\n",
       "    </tr>\n",
       "    <tr>\n",
       "      <th>4</th>\n",
       "      <td>536365</td>\n",
       "      <td>84029E</td>\n",
       "      <td>RED WOOLLY HOTTIE WHITE HEART.</td>\n",
       "      <td>6</td>\n",
       "      <td>01-12-2010 08:26</td>\n",
       "      <td>3.39</td>\n",
       "      <td>17850.0</td>\n",
       "      <td>United Kingdom</td>\n",
       "      <td>20.34</td>\n",
       "    </tr>\n",
       "  </tbody>\n",
       "</table>\n",
       "</div>"
      ],
      "text/plain": [
       "  InvoiceNo StockCode                          Description  Quantity  \\\n",
       "0    536365    85123A   WHITE HANGING HEART T-LIGHT HOLDER         6   \n",
       "1    536365     71053                  WHITE METAL LANTERN         6   \n",
       "2    536365    84406B       CREAM CUPID HEARTS COAT HANGER         8   \n",
       "3    536365    84029G  KNITTED UNION FLAG HOT WATER BOTTLE         6   \n",
       "4    536365    84029E       RED WOOLLY HOTTIE WHITE HEART.         6   \n",
       "\n",
       "        InvoiceDate  UnitPrice  CustomerID         Country  gross_profit  \n",
       "0  01-12-2010 08:26       2.55     17850.0  United Kingdom         15.30  \n",
       "1  01-12-2010 08:26       3.39     17850.0  United Kingdom         20.34  \n",
       "2  01-12-2010 08:26       2.75     17850.0  United Kingdom         22.00  \n",
       "3  01-12-2010 08:26       3.39     17850.0  United Kingdom         20.34  \n",
       "4  01-12-2010 08:26       3.39     17850.0  United Kingdom         20.34  "
      ]
     },
     "execution_count": 48,
     "metadata": {},
     "output_type": "execute_result"
    }
   ],
   "source": [
    "data_cleaned.head()"
   ]
  },
  {
   "cell_type": "code",
   "execution_count": 49,
   "id": "df1e364e",
   "metadata": {},
   "outputs": [
    {
     "name": "stderr",
     "output_type": "stream",
     "text": [
      "/var/folders/c3/1g8s1kz57t5fy4f84jm4vjwr0000gn/T/ipykernel_36665/1612582301.py:2: SettingWithCopyWarning: \n",
      "A value is trying to be set on a copy of a slice from a DataFrame.\n",
      "Try using .loc[row_indexer,col_indexer] = value instead\n",
      "\n",
      "See the caveats in the documentation: https://pandas.pydata.org/pandas-docs/stable/user_guide/indexing.html#returning-a-view-versus-a-copy\n",
      "  data_cleaned.InvoiceDate = pd.to_datetime(data_cleaned['InvoiceDate'],dayfirst=True)\n"
     ]
    },
    {
     "data": {
      "text/html": [
       "<div>\n",
       "<style scoped>\n",
       "    .dataframe tbody tr th:only-of-type {\n",
       "        vertical-align: middle;\n",
       "    }\n",
       "\n",
       "    .dataframe tbody tr th {\n",
       "        vertical-align: top;\n",
       "    }\n",
       "\n",
       "    .dataframe thead th {\n",
       "        text-align: right;\n",
       "    }\n",
       "</style>\n",
       "<table border=\"1\" class=\"dataframe\">\n",
       "  <thead>\n",
       "    <tr style=\"text-align: right;\">\n",
       "      <th></th>\n",
       "      <th>InvoiceNo</th>\n",
       "      <th>StockCode</th>\n",
       "      <th>Description</th>\n",
       "      <th>Quantity</th>\n",
       "      <th>InvoiceDate</th>\n",
       "      <th>UnitPrice</th>\n",
       "      <th>CustomerID</th>\n",
       "      <th>Country</th>\n",
       "      <th>gross_profit</th>\n",
       "    </tr>\n",
       "  </thead>\n",
       "  <tbody>\n",
       "    <tr>\n",
       "      <th>0</th>\n",
       "      <td>536365</td>\n",
       "      <td>85123A</td>\n",
       "      <td>WHITE HANGING HEART T-LIGHT HOLDER</td>\n",
       "      <td>6</td>\n",
       "      <td>2010-12-01 08:26:00</td>\n",
       "      <td>2.55</td>\n",
       "      <td>17850.0</td>\n",
       "      <td>United Kingdom</td>\n",
       "      <td>15.30</td>\n",
       "    </tr>\n",
       "    <tr>\n",
       "      <th>1</th>\n",
       "      <td>536365</td>\n",
       "      <td>71053</td>\n",
       "      <td>WHITE METAL LANTERN</td>\n",
       "      <td>6</td>\n",
       "      <td>2010-12-01 08:26:00</td>\n",
       "      <td>3.39</td>\n",
       "      <td>17850.0</td>\n",
       "      <td>United Kingdom</td>\n",
       "      <td>20.34</td>\n",
       "    </tr>\n",
       "    <tr>\n",
       "      <th>2</th>\n",
       "      <td>536365</td>\n",
       "      <td>84406B</td>\n",
       "      <td>CREAM CUPID HEARTS COAT HANGER</td>\n",
       "      <td>8</td>\n",
       "      <td>2010-12-01 08:26:00</td>\n",
       "      <td>2.75</td>\n",
       "      <td>17850.0</td>\n",
       "      <td>United Kingdom</td>\n",
       "      <td>22.00</td>\n",
       "    </tr>\n",
       "    <tr>\n",
       "      <th>3</th>\n",
       "      <td>536365</td>\n",
       "      <td>84029G</td>\n",
       "      <td>KNITTED UNION FLAG HOT WATER BOTTLE</td>\n",
       "      <td>6</td>\n",
       "      <td>2010-12-01 08:26:00</td>\n",
       "      <td>3.39</td>\n",
       "      <td>17850.0</td>\n",
       "      <td>United Kingdom</td>\n",
       "      <td>20.34</td>\n",
       "    </tr>\n",
       "    <tr>\n",
       "      <th>4</th>\n",
       "      <td>536365</td>\n",
       "      <td>84029E</td>\n",
       "      <td>RED WOOLLY HOTTIE WHITE HEART.</td>\n",
       "      <td>6</td>\n",
       "      <td>2010-12-01 08:26:00</td>\n",
       "      <td>3.39</td>\n",
       "      <td>17850.0</td>\n",
       "      <td>United Kingdom</td>\n",
       "      <td>20.34</td>\n",
       "    </tr>\n",
       "  </tbody>\n",
       "</table>\n",
       "</div>"
      ],
      "text/plain": [
       "  InvoiceNo StockCode                          Description  Quantity  \\\n",
       "0    536365    85123A   WHITE HANGING HEART T-LIGHT HOLDER         6   \n",
       "1    536365     71053                  WHITE METAL LANTERN         6   \n",
       "2    536365    84406B       CREAM CUPID HEARTS COAT HANGER         8   \n",
       "3    536365    84029G  KNITTED UNION FLAG HOT WATER BOTTLE         6   \n",
       "4    536365    84029E       RED WOOLLY HOTTIE WHITE HEART.         6   \n",
       "\n",
       "          InvoiceDate  UnitPrice  CustomerID         Country  gross_profit  \n",
       "0 2010-12-01 08:26:00       2.55     17850.0  United Kingdom         15.30  \n",
       "1 2010-12-01 08:26:00       3.39     17850.0  United Kingdom         20.34  \n",
       "2 2010-12-01 08:26:00       2.75     17850.0  United Kingdom         22.00  \n",
       "3 2010-12-01 08:26:00       3.39     17850.0  United Kingdom         20.34  \n",
       "4 2010-12-01 08:26:00       3.39     17850.0  United Kingdom         20.34  "
      ]
     },
     "execution_count": 49,
     "metadata": {},
     "output_type": "execute_result"
    }
   ],
   "source": [
    "# Turnin date columns into Datetime format. \n",
    "data_cleaned.InvoiceDate = pd.to_datetime(data_cleaned['InvoiceDate'],dayfirst=True)\n",
    "data_cleaned.head()"
   ]
  },
  {
   "cell_type": "code",
   "execution_count": 50,
   "id": "864e37d8",
   "metadata": {},
   "outputs": [
    {
     "data": {
      "text/html": [
       "<div>\n",
       "<style scoped>\n",
       "    .dataframe tbody tr th:only-of-type {\n",
       "        vertical-align: middle;\n",
       "    }\n",
       "\n",
       "    .dataframe tbody tr th {\n",
       "        vertical-align: top;\n",
       "    }\n",
       "\n",
       "    .dataframe thead th {\n",
       "        text-align: right;\n",
       "    }\n",
       "</style>\n",
       "<table border=\"1\" class=\"dataframe\">\n",
       "  <thead>\n",
       "    <tr style=\"text-align: right;\">\n",
       "      <th></th>\n",
       "      <th>InvoiceNo</th>\n",
       "      <th>StockCode</th>\n",
       "      <th>Description</th>\n",
       "      <th>Quantity</th>\n",
       "      <th>InvoiceDate</th>\n",
       "      <th>UnitPrice</th>\n",
       "      <th>CustomerID</th>\n",
       "      <th>Country</th>\n",
       "      <th>gross_profit</th>\n",
       "    </tr>\n",
       "  </thead>\n",
       "  <tbody>\n",
       "    <tr>\n",
       "      <th>0</th>\n",
       "      <td>536365</td>\n",
       "      <td>85123A</td>\n",
       "      <td>WHITE HANGING HEART T-LIGHT HOLDER</td>\n",
       "      <td>6</td>\n",
       "      <td>2010-12-01 08:26:00</td>\n",
       "      <td>2.55</td>\n",
       "      <td>17850.0</td>\n",
       "      <td>United Kingdom</td>\n",
       "      <td>15.30</td>\n",
       "    </tr>\n",
       "    <tr>\n",
       "      <th>1</th>\n",
       "      <td>536365</td>\n",
       "      <td>71053</td>\n",
       "      <td>WHITE METAL LANTERN</td>\n",
       "      <td>6</td>\n",
       "      <td>2010-12-01 08:26:00</td>\n",
       "      <td>3.39</td>\n",
       "      <td>17850.0</td>\n",
       "      <td>United Kingdom</td>\n",
       "      <td>20.34</td>\n",
       "    </tr>\n",
       "    <tr>\n",
       "      <th>2</th>\n",
       "      <td>536365</td>\n",
       "      <td>84406B</td>\n",
       "      <td>CREAM CUPID HEARTS COAT HANGER</td>\n",
       "      <td>8</td>\n",
       "      <td>2010-12-01 08:26:00</td>\n",
       "      <td>2.75</td>\n",
       "      <td>17850.0</td>\n",
       "      <td>United Kingdom</td>\n",
       "      <td>22.00</td>\n",
       "    </tr>\n",
       "    <tr>\n",
       "      <th>3</th>\n",
       "      <td>536365</td>\n",
       "      <td>84029G</td>\n",
       "      <td>KNITTED UNION FLAG HOT WATER BOTTLE</td>\n",
       "      <td>6</td>\n",
       "      <td>2010-12-01 08:26:00</td>\n",
       "      <td>3.39</td>\n",
       "      <td>17850.0</td>\n",
       "      <td>United Kingdom</td>\n",
       "      <td>20.34</td>\n",
       "    </tr>\n",
       "    <tr>\n",
       "      <th>4</th>\n",
       "      <td>536365</td>\n",
       "      <td>84029E</td>\n",
       "      <td>RED WOOLLY HOTTIE WHITE HEART.</td>\n",
       "      <td>6</td>\n",
       "      <td>2010-12-01 08:26:00</td>\n",
       "      <td>3.39</td>\n",
       "      <td>17850.0</td>\n",
       "      <td>United Kingdom</td>\n",
       "      <td>20.34</td>\n",
       "    </tr>\n",
       "  </tbody>\n",
       "</table>\n",
       "</div>"
      ],
      "text/plain": [
       "  InvoiceNo StockCode                          Description  Quantity  \\\n",
       "0    536365    85123A   WHITE HANGING HEART T-LIGHT HOLDER         6   \n",
       "1    536365     71053                  WHITE METAL LANTERN         6   \n",
       "2    536365    84406B       CREAM CUPID HEARTS COAT HANGER         8   \n",
       "3    536365    84029G  KNITTED UNION FLAG HOT WATER BOTTLE         6   \n",
       "4    536365    84029E       RED WOOLLY HOTTIE WHITE HEART.         6   \n",
       "\n",
       "          InvoiceDate  UnitPrice  CustomerID         Country  gross_profit  \n",
       "0 2010-12-01 08:26:00       2.55     17850.0  United Kingdom         15.30  \n",
       "1 2010-12-01 08:26:00       3.39     17850.0  United Kingdom         20.34  \n",
       "2 2010-12-01 08:26:00       2.75     17850.0  United Kingdom         22.00  \n",
       "3 2010-12-01 08:26:00       3.39     17850.0  United Kingdom         20.34  \n",
       "4 2010-12-01 08:26:00       3.39     17850.0  United Kingdom         20.34  "
      ]
     },
     "execution_count": 50,
     "metadata": {},
     "output_type": "execute_result"
    }
   ],
   "source": [
    "data_cleaned.head()"
   ]
  },
  {
   "cell_type": "code",
   "execution_count": 51,
   "id": "27b4971b",
   "metadata": {},
   "outputs": [
    {
     "name": "stderr",
     "output_type": "stream",
     "text": [
      "/var/folders/c3/1g8s1kz57t5fy4f84jm4vjwr0000gn/T/ipykernel_36665/3805957240.py:1: SettingWithCopyWarning: \n",
      "A value is trying to be set on a copy of a slice from a DataFrame.\n",
      "Try using .loc[row_indexer,col_indexer] = value instead\n",
      "\n",
      "See the caveats in the documentation: https://pandas.pydata.org/pandas-docs/stable/user_guide/indexing.html#returning-a-view-versus-a-copy\n",
      "  data_cleaned['invoice_date'] = data_cleaned.InvoiceDate.dt.date\n",
      "/var/folders/c3/1g8s1kz57t5fy4f84jm4vjwr0000gn/T/ipykernel_36665/3805957240.py:2: SettingWithCopyWarning: \n",
      "A value is trying to be set on a copy of a slice from a DataFrame.\n",
      "Try using .loc[row_indexer,col_indexer] = value instead\n",
      "\n",
      "See the caveats in the documentation: https://pandas.pydata.org/pandas-docs/stable/user_guide/indexing.html#returning-a-view-versus-a-copy\n",
      "  data_cleaned['invoice_time'] = data_cleaned.InvoiceDate.dt.time\n"
     ]
    },
    {
     "data": {
      "text/html": [
       "<div>\n",
       "<style scoped>\n",
       "    .dataframe tbody tr th:only-of-type {\n",
       "        vertical-align: middle;\n",
       "    }\n",
       "\n",
       "    .dataframe tbody tr th {\n",
       "        vertical-align: top;\n",
       "    }\n",
       "\n",
       "    .dataframe thead th {\n",
       "        text-align: right;\n",
       "    }\n",
       "</style>\n",
       "<table border=\"1\" class=\"dataframe\">\n",
       "  <thead>\n",
       "    <tr style=\"text-align: right;\">\n",
       "      <th></th>\n",
       "      <th>InvoiceNo</th>\n",
       "      <th>StockCode</th>\n",
       "      <th>Description</th>\n",
       "      <th>Quantity</th>\n",
       "      <th>InvoiceDate</th>\n",
       "      <th>UnitPrice</th>\n",
       "      <th>CustomerID</th>\n",
       "      <th>Country</th>\n",
       "      <th>gross_profit</th>\n",
       "      <th>invoice_date</th>\n",
       "      <th>invoice_time</th>\n",
       "    </tr>\n",
       "  </thead>\n",
       "  <tbody>\n",
       "    <tr>\n",
       "      <th>0</th>\n",
       "      <td>536365</td>\n",
       "      <td>85123A</td>\n",
       "      <td>WHITE HANGING HEART T-LIGHT HOLDER</td>\n",
       "      <td>6</td>\n",
       "      <td>2010-12-01 08:26:00</td>\n",
       "      <td>2.55</td>\n",
       "      <td>17850.0</td>\n",
       "      <td>United Kingdom</td>\n",
       "      <td>15.30</td>\n",
       "      <td>2010-12-01</td>\n",
       "      <td>08:26:00</td>\n",
       "    </tr>\n",
       "    <tr>\n",
       "      <th>1</th>\n",
       "      <td>536365</td>\n",
       "      <td>71053</td>\n",
       "      <td>WHITE METAL LANTERN</td>\n",
       "      <td>6</td>\n",
       "      <td>2010-12-01 08:26:00</td>\n",
       "      <td>3.39</td>\n",
       "      <td>17850.0</td>\n",
       "      <td>United Kingdom</td>\n",
       "      <td>20.34</td>\n",
       "      <td>2010-12-01</td>\n",
       "      <td>08:26:00</td>\n",
       "    </tr>\n",
       "    <tr>\n",
       "      <th>2</th>\n",
       "      <td>536365</td>\n",
       "      <td>84406B</td>\n",
       "      <td>CREAM CUPID HEARTS COAT HANGER</td>\n",
       "      <td>8</td>\n",
       "      <td>2010-12-01 08:26:00</td>\n",
       "      <td>2.75</td>\n",
       "      <td>17850.0</td>\n",
       "      <td>United Kingdom</td>\n",
       "      <td>22.00</td>\n",
       "      <td>2010-12-01</td>\n",
       "      <td>08:26:00</td>\n",
       "    </tr>\n",
       "    <tr>\n",
       "      <th>3</th>\n",
       "      <td>536365</td>\n",
       "      <td>84029G</td>\n",
       "      <td>KNITTED UNION FLAG HOT WATER BOTTLE</td>\n",
       "      <td>6</td>\n",
       "      <td>2010-12-01 08:26:00</td>\n",
       "      <td>3.39</td>\n",
       "      <td>17850.0</td>\n",
       "      <td>United Kingdom</td>\n",
       "      <td>20.34</td>\n",
       "      <td>2010-12-01</td>\n",
       "      <td>08:26:00</td>\n",
       "    </tr>\n",
       "    <tr>\n",
       "      <th>4</th>\n",
       "      <td>536365</td>\n",
       "      <td>84029E</td>\n",
       "      <td>RED WOOLLY HOTTIE WHITE HEART.</td>\n",
       "      <td>6</td>\n",
       "      <td>2010-12-01 08:26:00</td>\n",
       "      <td>3.39</td>\n",
       "      <td>17850.0</td>\n",
       "      <td>United Kingdom</td>\n",
       "      <td>20.34</td>\n",
       "      <td>2010-12-01</td>\n",
       "      <td>08:26:00</td>\n",
       "    </tr>\n",
       "  </tbody>\n",
       "</table>\n",
       "</div>"
      ],
      "text/plain": [
       "  InvoiceNo StockCode                          Description  Quantity  \\\n",
       "0    536365    85123A   WHITE HANGING HEART T-LIGHT HOLDER         6   \n",
       "1    536365     71053                  WHITE METAL LANTERN         6   \n",
       "2    536365    84406B       CREAM CUPID HEARTS COAT HANGER         8   \n",
       "3    536365    84029G  KNITTED UNION FLAG HOT WATER BOTTLE         6   \n",
       "4    536365    84029E       RED WOOLLY HOTTIE WHITE HEART.         6   \n",
       "\n",
       "          InvoiceDate  UnitPrice  CustomerID         Country  gross_profit  \\\n",
       "0 2010-12-01 08:26:00       2.55     17850.0  United Kingdom         15.30   \n",
       "1 2010-12-01 08:26:00       3.39     17850.0  United Kingdom         20.34   \n",
       "2 2010-12-01 08:26:00       2.75     17850.0  United Kingdom         22.00   \n",
       "3 2010-12-01 08:26:00       3.39     17850.0  United Kingdom         20.34   \n",
       "4 2010-12-01 08:26:00       3.39     17850.0  United Kingdom         20.34   \n",
       "\n",
       "  invoice_date invoice_time  \n",
       "0   2010-12-01     08:26:00  \n",
       "1   2010-12-01     08:26:00  \n",
       "2   2010-12-01     08:26:00  \n",
       "3   2010-12-01     08:26:00  \n",
       "4   2010-12-01     08:26:00  "
      ]
     },
     "execution_count": 51,
     "metadata": {},
     "output_type": "execute_result"
    }
   ],
   "source": [
    "data_cleaned['invoice_date'] = data_cleaned.InvoiceDate.dt.date\n",
    "data_cleaned['invoice_time'] = data_cleaned.InvoiceDate.dt.time\n",
    "data_cleaned.head()\n"
   ]
  },
  {
   "cell_type": "code",
   "execution_count": 52,
   "id": "955b0fbb",
   "metadata": {},
   "outputs": [
    {
     "name": "stderr",
     "output_type": "stream",
     "text": [
      "/var/folders/c3/1g8s1kz57t5fy4f84jm4vjwr0000gn/T/ipykernel_36665/1309762090.py:1: SettingWithCopyWarning: \n",
      "A value is trying to be set on a copy of a slice from a DataFrame\n",
      "\n",
      "See the caveats in the documentation: https://pandas.pydata.org/pandas-docs/stable/user_guide/indexing.html#returning-a-view-versus-a-copy\n",
      "  data_cleaned.drop(columns='InvoiceDate', inplace=True)\n"
     ]
    },
    {
     "data": {
      "text/plain": [
       "Index(['InvoiceNo', 'StockCode', 'Description', 'Quantity', 'UnitPrice',\n",
       "       'CustomerID', 'Country', 'gross_profit', 'invoice_date',\n",
       "       'invoice_time'],\n",
       "      dtype='object')"
      ]
     },
     "execution_count": 52,
     "metadata": {},
     "output_type": "execute_result"
    }
   ],
   "source": [
    "data_cleaned.drop(columns='InvoiceDate', inplace=True)\n",
    "data_cleaned.columns"
   ]
  },
  {
   "cell_type": "code",
   "execution_count": 53,
   "id": "ffe97fe6",
   "metadata": {},
   "outputs": [
    {
     "data": {
      "text/html": [
       "<div>\n",
       "<style scoped>\n",
       "    .dataframe tbody tr th:only-of-type {\n",
       "        vertical-align: middle;\n",
       "    }\n",
       "\n",
       "    .dataframe tbody tr th {\n",
       "        vertical-align: top;\n",
       "    }\n",
       "\n",
       "    .dataframe thead th {\n",
       "        text-align: right;\n",
       "    }\n",
       "</style>\n",
       "<table border=\"1\" class=\"dataframe\">\n",
       "  <thead>\n",
       "    <tr style=\"text-align: right;\">\n",
       "      <th></th>\n",
       "      <th>CustomerID</th>\n",
       "      <th>gross_profit</th>\n",
       "    </tr>\n",
       "  </thead>\n",
       "  <tbody>\n",
       "    <tr>\n",
       "      <th>1703</th>\n",
       "      <td>14646.0</td>\n",
       "      <td>279489.02</td>\n",
       "    </tr>\n",
       "    <tr>\n",
       "      <th>4233</th>\n",
       "      <td>18102.0</td>\n",
       "      <td>256438.49</td>\n",
       "    </tr>\n",
       "    <tr>\n",
       "      <th>3758</th>\n",
       "      <td>17450.0</td>\n",
       "      <td>187322.17</td>\n",
       "    </tr>\n",
       "    <tr>\n",
       "      <th>1895</th>\n",
       "      <td>14911.0</td>\n",
       "      <td>132458.73</td>\n",
       "    </tr>\n",
       "    <tr>\n",
       "      <th>55</th>\n",
       "      <td>12415.0</td>\n",
       "      <td>123725.45</td>\n",
       "    </tr>\n",
       "    <tr>\n",
       "      <th>1345</th>\n",
       "      <td>14156.0</td>\n",
       "      <td>113214.59</td>\n",
       "    </tr>\n",
       "    <tr>\n",
       "      <th>3801</th>\n",
       "      <td>17511.0</td>\n",
       "      <td>88125.38</td>\n",
       "    </tr>\n",
       "    <tr>\n",
       "      <th>3202</th>\n",
       "      <td>16684.0</td>\n",
       "      <td>65892.08</td>\n",
       "    </tr>\n",
       "    <tr>\n",
       "      <th>1005</th>\n",
       "      <td>13694.0</td>\n",
       "      <td>62690.54</td>\n",
       "    </tr>\n",
       "    <tr>\n",
       "      <th>2192</th>\n",
       "      <td>15311.0</td>\n",
       "      <td>59284.19</td>\n",
       "    </tr>\n",
       "    <tr>\n",
       "      <th>568</th>\n",
       "      <td>13089.0</td>\n",
       "      <td>57322.13</td>\n",
       "    </tr>\n",
       "    <tr>\n",
       "      <th>1300</th>\n",
       "      <td>14096.0</td>\n",
       "      <td>57120.91</td>\n",
       "    </tr>\n",
       "    <tr>\n",
       "      <th>1999</th>\n",
       "      <td>15061.0</td>\n",
       "      <td>54228.74</td>\n",
       "    </tr>\n",
       "    <tr>\n",
       "      <th>2722</th>\n",
       "      <td>16029.0</td>\n",
       "      <td>53168.69</td>\n",
       "    </tr>\n",
       "    <tr>\n",
       "      <th>4125</th>\n",
       "      <td>17949.0</td>\n",
       "      <td>52750.84</td>\n",
       "    </tr>\n",
       "    <tr>\n",
       "      <th>2537</th>\n",
       "      <td>15769.0</td>\n",
       "      <td>51823.72</td>\n",
       "    </tr>\n",
       "    <tr>\n",
       "      <th>1447</th>\n",
       "      <td>14298.0</td>\n",
       "      <td>50862.44</td>\n",
       "    </tr>\n",
       "    <tr>\n",
       "      <th>1295</th>\n",
       "      <td>14088.0</td>\n",
       "      <td>50415.49</td>\n",
       "    </tr>\n",
       "    <tr>\n",
       "      <th>4042</th>\n",
       "      <td>17841.0</td>\n",
       "      <td>39869.05</td>\n",
       "    </tr>\n",
       "    <tr>\n",
       "      <th>1078</th>\n",
       "      <td>13798.0</td>\n",
       "      <td>36352.87</td>\n",
       "    </tr>\n",
       "  </tbody>\n",
       "</table>\n",
       "</div>"
      ],
      "text/plain": [
       "      CustomerID  gross_profit\n",
       "1703     14646.0     279489.02\n",
       "4233     18102.0     256438.49\n",
       "3758     17450.0     187322.17\n",
       "1895     14911.0     132458.73\n",
       "55       12415.0     123725.45\n",
       "1345     14156.0     113214.59\n",
       "3801     17511.0      88125.38\n",
       "3202     16684.0      65892.08\n",
       "1005     13694.0      62690.54\n",
       "2192     15311.0      59284.19\n",
       "568      13089.0      57322.13\n",
       "1300     14096.0      57120.91\n",
       "1999     15061.0      54228.74\n",
       "2722     16029.0      53168.69\n",
       "4125     17949.0      52750.84\n",
       "2537     15769.0      51823.72\n",
       "1447     14298.0      50862.44\n",
       "1295     14088.0      50415.49\n",
       "4042     17841.0      39869.05\n",
       "1078     13798.0      36352.87"
      ]
     },
     "execution_count": 53,
     "metadata": {},
     "output_type": "execute_result"
    }
   ],
   "source": [
    "# Creating a summary of customerID vs Profit\n",
    "custProfit = data_cleaned.groupby('CustomerID')['gross_profit'].sum().reset_index().sort_values(by='gross_profit', ascending=False)\n",
    "custProfit.head(n=20)"
   ]
  },
  {
   "cell_type": "code",
   "execution_count": 54,
   "id": "066caf3f",
   "metadata": {},
   "outputs": [
    {
     "data": {
      "text/html": [
       "<div>\n",
       "<style scoped>\n",
       "    .dataframe tbody tr th:only-of-type {\n",
       "        vertical-align: middle;\n",
       "    }\n",
       "\n",
       "    .dataframe tbody tr th {\n",
       "        vertical-align: top;\n",
       "    }\n",
       "\n",
       "    .dataframe thead th {\n",
       "        text-align: right;\n",
       "    }\n",
       "</style>\n",
       "<table border=\"1\" class=\"dataframe\">\n",
       "  <thead>\n",
       "    <tr style=\"text-align: right;\">\n",
       "      <th></th>\n",
       "      <th>InvoiceNo</th>\n",
       "      <th>StockCode</th>\n",
       "      <th>Description</th>\n",
       "      <th>Quantity</th>\n",
       "      <th>UnitPrice</th>\n",
       "      <th>CustomerID</th>\n",
       "      <th>Country</th>\n",
       "      <th>gross_profit</th>\n",
       "      <th>invoice_date</th>\n",
       "      <th>invoice_time</th>\n",
       "    </tr>\n",
       "  </thead>\n",
       "  <tbody>\n",
       "    <tr>\n",
       "      <th>141</th>\n",
       "      <td>C536379</td>\n",
       "      <td>D</td>\n",
       "      <td>Discount</td>\n",
       "      <td>-1</td>\n",
       "      <td>27.50</td>\n",
       "      <td>14527.0</td>\n",
       "      <td>United Kingdom</td>\n",
       "      <td>-27.50</td>\n",
       "      <td>2010-12-01</td>\n",
       "      <td>09:41:00</td>\n",
       "    </tr>\n",
       "    <tr>\n",
       "      <th>154</th>\n",
       "      <td>C536383</td>\n",
       "      <td>35004C</td>\n",
       "      <td>SET OF 3 COLOURED  FLYING DUCKS</td>\n",
       "      <td>-1</td>\n",
       "      <td>4.65</td>\n",
       "      <td>15311.0</td>\n",
       "      <td>United Kingdom</td>\n",
       "      <td>-4.65</td>\n",
       "      <td>2010-12-01</td>\n",
       "      <td>09:49:00</td>\n",
       "    </tr>\n",
       "    <tr>\n",
       "      <th>235</th>\n",
       "      <td>C536391</td>\n",
       "      <td>22556</td>\n",
       "      <td>PLASTERS IN TIN CIRCUS PARADE</td>\n",
       "      <td>-12</td>\n",
       "      <td>1.65</td>\n",
       "      <td>17548.0</td>\n",
       "      <td>United Kingdom</td>\n",
       "      <td>-19.80</td>\n",
       "      <td>2010-12-01</td>\n",
       "      <td>10:24:00</td>\n",
       "    </tr>\n",
       "    <tr>\n",
       "      <th>236</th>\n",
       "      <td>C536391</td>\n",
       "      <td>21984</td>\n",
       "      <td>PACK OF 12 PINK PAISLEY TISSUES</td>\n",
       "      <td>-24</td>\n",
       "      <td>0.29</td>\n",
       "      <td>17548.0</td>\n",
       "      <td>United Kingdom</td>\n",
       "      <td>-6.96</td>\n",
       "      <td>2010-12-01</td>\n",
       "      <td>10:24:00</td>\n",
       "    </tr>\n",
       "    <tr>\n",
       "      <th>237</th>\n",
       "      <td>C536391</td>\n",
       "      <td>21983</td>\n",
       "      <td>PACK OF 12 BLUE PAISLEY TISSUES</td>\n",
       "      <td>-24</td>\n",
       "      <td>0.29</td>\n",
       "      <td>17548.0</td>\n",
       "      <td>United Kingdom</td>\n",
       "      <td>-6.96</td>\n",
       "      <td>2010-12-01</td>\n",
       "      <td>10:24:00</td>\n",
       "    </tr>\n",
       "  </tbody>\n",
       "</table>\n",
       "</div>"
      ],
      "text/plain": [
       "    InvoiceNo StockCode                       Description  Quantity  \\\n",
       "141   C536379         D                          Discount        -1   \n",
       "154   C536383    35004C   SET OF 3 COLOURED  FLYING DUCKS        -1   \n",
       "235   C536391     22556    PLASTERS IN TIN CIRCUS PARADE        -12   \n",
       "236   C536391     21984  PACK OF 12 PINK PAISLEY TISSUES        -24   \n",
       "237   C536391     21983  PACK OF 12 BLUE PAISLEY TISSUES        -24   \n",
       "\n",
       "     UnitPrice  CustomerID         Country  gross_profit invoice_date  \\\n",
       "141      27.50     14527.0  United Kingdom        -27.50   2010-12-01   \n",
       "154       4.65     15311.0  United Kingdom         -4.65   2010-12-01   \n",
       "235       1.65     17548.0  United Kingdom        -19.80   2010-12-01   \n",
       "236       0.29     17548.0  United Kingdom         -6.96   2010-12-01   \n",
       "237       0.29     17548.0  United Kingdom         -6.96   2010-12-01   \n",
       "\n",
       "    invoice_time  \n",
       "141     09:41:00  \n",
       "154     09:49:00  \n",
       "235     10:24:00  \n",
       "236     10:24:00  \n",
       "237     10:24:00  "
      ]
     },
     "execution_count": 54,
     "metadata": {},
     "output_type": "execute_result"
    }
   ],
   "source": [
    "data_cleaned[data_cleaned['Quantity']<0].head()"
   ]
  },
  {
   "cell_type": "code",
   "execution_count": 55,
   "id": "50fed91e",
   "metadata": {},
   "outputs": [],
   "source": [
    "data_negQTY = data_cleaned[data_cleaned['Quantity']<0] \n",
    "data_negQTY.to_csv('data/neg_qty.csv')"
   ]
  },
  {
   "cell_type": "code",
   "execution_count": 56,
   "id": "37002360",
   "metadata": {},
   "outputs": [],
   "source": [
    "# Removing negative data from our dataset.\n",
    "data_v2 = data_cleaned[data_cleaned['Quantity']>0]"
   ]
  },
  {
   "cell_type": "code",
   "execution_count": 57,
   "id": "52102d5d",
   "metadata": {},
   "outputs": [
    {
     "data": {
      "text/html": [
       "<div>\n",
       "<style scoped>\n",
       "    .dataframe tbody tr th:only-of-type {\n",
       "        vertical-align: middle;\n",
       "    }\n",
       "\n",
       "    .dataframe tbody tr th {\n",
       "        vertical-align: top;\n",
       "    }\n",
       "\n",
       "    .dataframe thead th {\n",
       "        text-align: right;\n",
       "    }\n",
       "</style>\n",
       "<table border=\"1\" class=\"dataframe\">\n",
       "  <thead>\n",
       "    <tr style=\"text-align: right;\">\n",
       "      <th></th>\n",
       "      <th>InvoiceNo</th>\n",
       "      <th>StockCode</th>\n",
       "      <th>Description</th>\n",
       "      <th>Quantity</th>\n",
       "      <th>UnitPrice</th>\n",
       "      <th>CustomerID</th>\n",
       "      <th>Country</th>\n",
       "      <th>gross_profit</th>\n",
       "      <th>invoice_date</th>\n",
       "      <th>invoice_time</th>\n",
       "    </tr>\n",
       "  </thead>\n",
       "  <tbody>\n",
       "    <tr>\n",
       "      <th>0</th>\n",
       "      <td>536365</td>\n",
       "      <td>85123A</td>\n",
       "      <td>WHITE HANGING HEART T-LIGHT HOLDER</td>\n",
       "      <td>6</td>\n",
       "      <td>2.55</td>\n",
       "      <td>17850.0</td>\n",
       "      <td>United Kingdom</td>\n",
       "      <td>15.30</td>\n",
       "      <td>2010-12-01</td>\n",
       "      <td>08:26:00</td>\n",
       "    </tr>\n",
       "    <tr>\n",
       "      <th>1</th>\n",
       "      <td>536365</td>\n",
       "      <td>71053</td>\n",
       "      <td>WHITE METAL LANTERN</td>\n",
       "      <td>6</td>\n",
       "      <td>3.39</td>\n",
       "      <td>17850.0</td>\n",
       "      <td>United Kingdom</td>\n",
       "      <td>20.34</td>\n",
       "      <td>2010-12-01</td>\n",
       "      <td>08:26:00</td>\n",
       "    </tr>\n",
       "    <tr>\n",
       "      <th>2</th>\n",
       "      <td>536365</td>\n",
       "      <td>84406B</td>\n",
       "      <td>CREAM CUPID HEARTS COAT HANGER</td>\n",
       "      <td>8</td>\n",
       "      <td>2.75</td>\n",
       "      <td>17850.0</td>\n",
       "      <td>United Kingdom</td>\n",
       "      <td>22.00</td>\n",
       "      <td>2010-12-01</td>\n",
       "      <td>08:26:00</td>\n",
       "    </tr>\n",
       "    <tr>\n",
       "      <th>3</th>\n",
       "      <td>536365</td>\n",
       "      <td>84029G</td>\n",
       "      <td>KNITTED UNION FLAG HOT WATER BOTTLE</td>\n",
       "      <td>6</td>\n",
       "      <td>3.39</td>\n",
       "      <td>17850.0</td>\n",
       "      <td>United Kingdom</td>\n",
       "      <td>20.34</td>\n",
       "      <td>2010-12-01</td>\n",
       "      <td>08:26:00</td>\n",
       "    </tr>\n",
       "    <tr>\n",
       "      <th>4</th>\n",
       "      <td>536365</td>\n",
       "      <td>84029E</td>\n",
       "      <td>RED WOOLLY HOTTIE WHITE HEART.</td>\n",
       "      <td>6</td>\n",
       "      <td>3.39</td>\n",
       "      <td>17850.0</td>\n",
       "      <td>United Kingdom</td>\n",
       "      <td>20.34</td>\n",
       "      <td>2010-12-01</td>\n",
       "      <td>08:26:00</td>\n",
       "    </tr>\n",
       "  </tbody>\n",
       "</table>\n",
       "</div>"
      ],
      "text/plain": [
       "  InvoiceNo StockCode                          Description  Quantity  \\\n",
       "0    536365    85123A   WHITE HANGING HEART T-LIGHT HOLDER         6   \n",
       "1    536365     71053                  WHITE METAL LANTERN         6   \n",
       "2    536365    84406B       CREAM CUPID HEARTS COAT HANGER         8   \n",
       "3    536365    84029G  KNITTED UNION FLAG HOT WATER BOTTLE         6   \n",
       "4    536365    84029E       RED WOOLLY HOTTIE WHITE HEART.         6   \n",
       "\n",
       "   UnitPrice  CustomerID         Country  gross_profit invoice_date  \\\n",
       "0       2.55     17850.0  United Kingdom         15.30   2010-12-01   \n",
       "1       3.39     17850.0  United Kingdom         20.34   2010-12-01   \n",
       "2       2.75     17850.0  United Kingdom         22.00   2010-12-01   \n",
       "3       3.39     17850.0  United Kingdom         20.34   2010-12-01   \n",
       "4       3.39     17850.0  United Kingdom         20.34   2010-12-01   \n",
       "\n",
       "  invoice_time  \n",
       "0     08:26:00  \n",
       "1     08:26:00  \n",
       "2     08:26:00  \n",
       "3     08:26:00  \n",
       "4     08:26:00  "
      ]
     },
     "execution_count": 57,
     "metadata": {},
     "output_type": "execute_result"
    }
   ],
   "source": [
    "data_v2.head()"
   ]
  },
  {
   "cell_type": "markdown",
   "id": "a44010ae",
   "metadata": {},
   "source": [
    "## Visualisation with Matplotlib & Seaborn"
   ]
  },
  {
   "cell_type": "code",
   "execution_count": 58,
   "id": "59364a5d",
   "metadata": {},
   "outputs": [],
   "source": [
    "import seaborn as sns\n",
    "import matplotlib.pyplot as plt"
   ]
  },
  {
   "cell_type": "code",
   "execution_count": 61,
   "id": "b29eb3e7",
   "metadata": {},
   "outputs": [],
   "source": [
    "iris = sns.load_dataset('iris')\n",
    "diamonds = sns.load_dataset('diamonds')"
   ]
  },
  {
   "cell_type": "markdown",
   "id": "e2c38d54",
   "metadata": {},
   "source": [
    "Task: Preview those datasets and use the .describe() method. I will ask some of you questions. \n",
    "\n",
    "EDA: "
   ]
  },
  {
   "cell_type": "code",
   "execution_count": 63,
   "id": "247cf33c",
   "metadata": {},
   "outputs": [
    {
     "data": {
      "text/html": [
       "<div>\n",
       "<style scoped>\n",
       "    .dataframe tbody tr th:only-of-type {\n",
       "        vertical-align: middle;\n",
       "    }\n",
       "\n",
       "    .dataframe tbody tr th {\n",
       "        vertical-align: top;\n",
       "    }\n",
       "\n",
       "    .dataframe thead th {\n",
       "        text-align: right;\n",
       "    }\n",
       "</style>\n",
       "<table border=\"1\" class=\"dataframe\">\n",
       "  <thead>\n",
       "    <tr style=\"text-align: right;\">\n",
       "      <th></th>\n",
       "      <th>sepal_length</th>\n",
       "      <th>sepal_width</th>\n",
       "      <th>petal_length</th>\n",
       "      <th>petal_width</th>\n",
       "      <th>species</th>\n",
       "    </tr>\n",
       "  </thead>\n",
       "  <tbody>\n",
       "    <tr>\n",
       "      <th>0</th>\n",
       "      <td>5.1</td>\n",
       "      <td>3.5</td>\n",
       "      <td>1.4</td>\n",
       "      <td>0.2</td>\n",
       "      <td>setosa</td>\n",
       "    </tr>\n",
       "    <tr>\n",
       "      <th>1</th>\n",
       "      <td>4.9</td>\n",
       "      <td>3.0</td>\n",
       "      <td>1.4</td>\n",
       "      <td>0.2</td>\n",
       "      <td>setosa</td>\n",
       "    </tr>\n",
       "    <tr>\n",
       "      <th>2</th>\n",
       "      <td>4.7</td>\n",
       "      <td>3.2</td>\n",
       "      <td>1.3</td>\n",
       "      <td>0.2</td>\n",
       "      <td>setosa</td>\n",
       "    </tr>\n",
       "    <tr>\n",
       "      <th>3</th>\n",
       "      <td>4.6</td>\n",
       "      <td>3.1</td>\n",
       "      <td>1.5</td>\n",
       "      <td>0.2</td>\n",
       "      <td>setosa</td>\n",
       "    </tr>\n",
       "    <tr>\n",
       "      <th>4</th>\n",
       "      <td>5.0</td>\n",
       "      <td>3.6</td>\n",
       "      <td>1.4</td>\n",
       "      <td>0.2</td>\n",
       "      <td>setosa</td>\n",
       "    </tr>\n",
       "  </tbody>\n",
       "</table>\n",
       "</div>"
      ],
      "text/plain": [
       "   sepal_length  sepal_width  petal_length  petal_width species\n",
       "0           5.1          3.5           1.4          0.2  setosa\n",
       "1           4.9          3.0           1.4          0.2  setosa\n",
       "2           4.7          3.2           1.3          0.2  setosa\n",
       "3           4.6          3.1           1.5          0.2  setosa\n",
       "4           5.0          3.6           1.4          0.2  setosa"
      ]
     },
     "execution_count": 63,
     "metadata": {},
     "output_type": "execute_result"
    }
   ],
   "source": [
    "iris.head()"
   ]
  },
  {
   "cell_type": "code",
   "execution_count": 72,
   "id": "a7ab781a",
   "metadata": {},
   "outputs": [
    {
     "data": {
      "text/html": [
       "<div>\n",
       "<style scoped>\n",
       "    .dataframe tbody tr th:only-of-type {\n",
       "        vertical-align: middle;\n",
       "    }\n",
       "\n",
       "    .dataframe tbody tr th {\n",
       "        vertical-align: top;\n",
       "    }\n",
       "\n",
       "    .dataframe thead th {\n",
       "        text-align: right;\n",
       "    }\n",
       "</style>\n",
       "<table border=\"1\" class=\"dataframe\">\n",
       "  <thead>\n",
       "    <tr style=\"text-align: right;\">\n",
       "      <th></th>\n",
       "      <th>carat</th>\n",
       "      <th>cut</th>\n",
       "      <th>color</th>\n",
       "      <th>clarity</th>\n",
       "      <th>depth</th>\n",
       "      <th>table</th>\n",
       "      <th>price</th>\n",
       "      <th>x</th>\n",
       "      <th>y</th>\n",
       "      <th>z</th>\n",
       "    </tr>\n",
       "  </thead>\n",
       "  <tbody>\n",
       "    <tr>\n",
       "      <th>0</th>\n",
       "      <td>0.23</td>\n",
       "      <td>Ideal</td>\n",
       "      <td>E</td>\n",
       "      <td>SI2</td>\n",
       "      <td>61.5</td>\n",
       "      <td>55.0</td>\n",
       "      <td>326</td>\n",
       "      <td>3.95</td>\n",
       "      <td>3.98</td>\n",
       "      <td>2.43</td>\n",
       "    </tr>\n",
       "    <tr>\n",
       "      <th>1</th>\n",
       "      <td>0.21</td>\n",
       "      <td>Premium</td>\n",
       "      <td>E</td>\n",
       "      <td>SI1</td>\n",
       "      <td>59.8</td>\n",
       "      <td>61.0</td>\n",
       "      <td>326</td>\n",
       "      <td>3.89</td>\n",
       "      <td>3.84</td>\n",
       "      <td>2.31</td>\n",
       "    </tr>\n",
       "    <tr>\n",
       "      <th>2</th>\n",
       "      <td>0.23</td>\n",
       "      <td>Good</td>\n",
       "      <td>E</td>\n",
       "      <td>VS1</td>\n",
       "      <td>56.9</td>\n",
       "      <td>65.0</td>\n",
       "      <td>327</td>\n",
       "      <td>4.05</td>\n",
       "      <td>4.07</td>\n",
       "      <td>2.31</td>\n",
       "    </tr>\n",
       "    <tr>\n",
       "      <th>3</th>\n",
       "      <td>0.29</td>\n",
       "      <td>Premium</td>\n",
       "      <td>I</td>\n",
       "      <td>VS2</td>\n",
       "      <td>62.4</td>\n",
       "      <td>58.0</td>\n",
       "      <td>334</td>\n",
       "      <td>4.20</td>\n",
       "      <td>4.23</td>\n",
       "      <td>2.63</td>\n",
       "    </tr>\n",
       "    <tr>\n",
       "      <th>4</th>\n",
       "      <td>0.31</td>\n",
       "      <td>Good</td>\n",
       "      <td>J</td>\n",
       "      <td>SI2</td>\n",
       "      <td>63.3</td>\n",
       "      <td>58.0</td>\n",
       "      <td>335</td>\n",
       "      <td>4.34</td>\n",
       "      <td>4.35</td>\n",
       "      <td>2.75</td>\n",
       "    </tr>\n",
       "  </tbody>\n",
       "</table>\n",
       "</div>"
      ],
      "text/plain": [
       "   carat      cut color clarity  depth  table  price     x     y     z\n",
       "0   0.23    Ideal     E     SI2   61.5   55.0    326  3.95  3.98  2.43\n",
       "1   0.21  Premium     E     SI1   59.8   61.0    326  3.89  3.84  2.31\n",
       "2   0.23     Good     E     VS1   56.9   65.0    327  4.05  4.07  2.31\n",
       "3   0.29  Premium     I     VS2   62.4   58.0    334  4.20  4.23  2.63\n",
       "4   0.31     Good     J     SI2   63.3   58.0    335  4.34  4.35  2.75"
      ]
     },
     "execution_count": 72,
     "metadata": {},
     "output_type": "execute_result"
    }
   ],
   "source": [
    "diamonds.head()"
   ]
  },
  {
   "cell_type": "code",
   "execution_count": 65,
   "id": "40591ff5",
   "metadata": {},
   "outputs": [
    {
     "data": {
      "text/html": [
       "<div>\n",
       "<style scoped>\n",
       "    .dataframe tbody tr th:only-of-type {\n",
       "        vertical-align: middle;\n",
       "    }\n",
       "\n",
       "    .dataframe tbody tr th {\n",
       "        vertical-align: top;\n",
       "    }\n",
       "\n",
       "    .dataframe thead th {\n",
       "        text-align: right;\n",
       "    }\n",
       "</style>\n",
       "<table border=\"1\" class=\"dataframe\">\n",
       "  <thead>\n",
       "    <tr style=\"text-align: right;\">\n",
       "      <th></th>\n",
       "      <th>sepal_length</th>\n",
       "      <th>sepal_width</th>\n",
       "      <th>petal_length</th>\n",
       "      <th>petal_width</th>\n",
       "    </tr>\n",
       "  </thead>\n",
       "  <tbody>\n",
       "    <tr>\n",
       "      <th>count</th>\n",
       "      <td>150.000000</td>\n",
       "      <td>150.000000</td>\n",
       "      <td>150.000000</td>\n",
       "      <td>150.000000</td>\n",
       "    </tr>\n",
       "    <tr>\n",
       "      <th>mean</th>\n",
       "      <td>5.843333</td>\n",
       "      <td>3.057333</td>\n",
       "      <td>3.758000</td>\n",
       "      <td>1.199333</td>\n",
       "    </tr>\n",
       "    <tr>\n",
       "      <th>std</th>\n",
       "      <td>0.828066</td>\n",
       "      <td>0.435866</td>\n",
       "      <td>1.765298</td>\n",
       "      <td>0.762238</td>\n",
       "    </tr>\n",
       "    <tr>\n",
       "      <th>min</th>\n",
       "      <td>4.300000</td>\n",
       "      <td>2.000000</td>\n",
       "      <td>1.000000</td>\n",
       "      <td>0.100000</td>\n",
       "    </tr>\n",
       "    <tr>\n",
       "      <th>25%</th>\n",
       "      <td>5.100000</td>\n",
       "      <td>2.800000</td>\n",
       "      <td>1.600000</td>\n",
       "      <td>0.300000</td>\n",
       "    </tr>\n",
       "    <tr>\n",
       "      <th>50%</th>\n",
       "      <td>5.800000</td>\n",
       "      <td>3.000000</td>\n",
       "      <td>4.350000</td>\n",
       "      <td>1.300000</td>\n",
       "    </tr>\n",
       "    <tr>\n",
       "      <th>75%</th>\n",
       "      <td>6.400000</td>\n",
       "      <td>3.300000</td>\n",
       "      <td>5.100000</td>\n",
       "      <td>1.800000</td>\n",
       "    </tr>\n",
       "    <tr>\n",
       "      <th>max</th>\n",
       "      <td>7.900000</td>\n",
       "      <td>4.400000</td>\n",
       "      <td>6.900000</td>\n",
       "      <td>2.500000</td>\n",
       "    </tr>\n",
       "  </tbody>\n",
       "</table>\n",
       "</div>"
      ],
      "text/plain": [
       "       sepal_length  sepal_width  petal_length  petal_width\n",
       "count    150.000000   150.000000    150.000000   150.000000\n",
       "mean       5.843333     3.057333      3.758000     1.199333\n",
       "std        0.828066     0.435866      1.765298     0.762238\n",
       "min        4.300000     2.000000      1.000000     0.100000\n",
       "25%        5.100000     2.800000      1.600000     0.300000\n",
       "50%        5.800000     3.000000      4.350000     1.300000\n",
       "75%        6.400000     3.300000      5.100000     1.800000\n",
       "max        7.900000     4.400000      6.900000     2.500000"
      ]
     },
     "execution_count": 65,
     "metadata": {},
     "output_type": "execute_result"
    }
   ],
   "source": [
    "iris.describe()"
   ]
  },
  {
   "cell_type": "code",
   "execution_count": 66,
   "id": "6401dcae",
   "metadata": {},
   "outputs": [
    {
     "data": {
      "text/html": [
       "<div>\n",
       "<style scoped>\n",
       "    .dataframe tbody tr th:only-of-type {\n",
       "        vertical-align: middle;\n",
       "    }\n",
       "\n",
       "    .dataframe tbody tr th {\n",
       "        vertical-align: top;\n",
       "    }\n",
       "\n",
       "    .dataframe thead th {\n",
       "        text-align: right;\n",
       "    }\n",
       "</style>\n",
       "<table border=\"1\" class=\"dataframe\">\n",
       "  <thead>\n",
       "    <tr style=\"text-align: right;\">\n",
       "      <th></th>\n",
       "      <th>carat</th>\n",
       "      <th>depth</th>\n",
       "      <th>table</th>\n",
       "      <th>price</th>\n",
       "      <th>x</th>\n",
       "      <th>y</th>\n",
       "      <th>z</th>\n",
       "    </tr>\n",
       "  </thead>\n",
       "  <tbody>\n",
       "    <tr>\n",
       "      <th>count</th>\n",
       "      <td>53940.000000</td>\n",
       "      <td>53940.000000</td>\n",
       "      <td>53940.000000</td>\n",
       "      <td>53940.000000</td>\n",
       "      <td>53940.000000</td>\n",
       "      <td>53940.000000</td>\n",
       "      <td>53940.000000</td>\n",
       "    </tr>\n",
       "    <tr>\n",
       "      <th>mean</th>\n",
       "      <td>0.797940</td>\n",
       "      <td>61.749405</td>\n",
       "      <td>57.457184</td>\n",
       "      <td>3932.799722</td>\n",
       "      <td>5.731157</td>\n",
       "      <td>5.734526</td>\n",
       "      <td>3.538734</td>\n",
       "    </tr>\n",
       "    <tr>\n",
       "      <th>std</th>\n",
       "      <td>0.474011</td>\n",
       "      <td>1.432621</td>\n",
       "      <td>2.234491</td>\n",
       "      <td>3989.439738</td>\n",
       "      <td>1.121761</td>\n",
       "      <td>1.142135</td>\n",
       "      <td>0.705699</td>\n",
       "    </tr>\n",
       "    <tr>\n",
       "      <th>min</th>\n",
       "      <td>0.200000</td>\n",
       "      <td>43.000000</td>\n",
       "      <td>43.000000</td>\n",
       "      <td>326.000000</td>\n",
       "      <td>0.000000</td>\n",
       "      <td>0.000000</td>\n",
       "      <td>0.000000</td>\n",
       "    </tr>\n",
       "    <tr>\n",
       "      <th>25%</th>\n",
       "      <td>0.400000</td>\n",
       "      <td>61.000000</td>\n",
       "      <td>56.000000</td>\n",
       "      <td>950.000000</td>\n",
       "      <td>4.710000</td>\n",
       "      <td>4.720000</td>\n",
       "      <td>2.910000</td>\n",
       "    </tr>\n",
       "    <tr>\n",
       "      <th>50%</th>\n",
       "      <td>0.700000</td>\n",
       "      <td>61.800000</td>\n",
       "      <td>57.000000</td>\n",
       "      <td>2401.000000</td>\n",
       "      <td>5.700000</td>\n",
       "      <td>5.710000</td>\n",
       "      <td>3.530000</td>\n",
       "    </tr>\n",
       "    <tr>\n",
       "      <th>75%</th>\n",
       "      <td>1.040000</td>\n",
       "      <td>62.500000</td>\n",
       "      <td>59.000000</td>\n",
       "      <td>5324.250000</td>\n",
       "      <td>6.540000</td>\n",
       "      <td>6.540000</td>\n",
       "      <td>4.040000</td>\n",
       "    </tr>\n",
       "    <tr>\n",
       "      <th>max</th>\n",
       "      <td>5.010000</td>\n",
       "      <td>79.000000</td>\n",
       "      <td>95.000000</td>\n",
       "      <td>18823.000000</td>\n",
       "      <td>10.740000</td>\n",
       "      <td>58.900000</td>\n",
       "      <td>31.800000</td>\n",
       "    </tr>\n",
       "  </tbody>\n",
       "</table>\n",
       "</div>"
      ],
      "text/plain": [
       "              carat         depth         table         price             x  \\\n",
       "count  53940.000000  53940.000000  53940.000000  53940.000000  53940.000000   \n",
       "mean       0.797940     61.749405     57.457184   3932.799722      5.731157   \n",
       "std        0.474011      1.432621      2.234491   3989.439738      1.121761   \n",
       "min        0.200000     43.000000     43.000000    326.000000      0.000000   \n",
       "25%        0.400000     61.000000     56.000000    950.000000      4.710000   \n",
       "50%        0.700000     61.800000     57.000000   2401.000000      5.700000   \n",
       "75%        1.040000     62.500000     59.000000   5324.250000      6.540000   \n",
       "max        5.010000     79.000000     95.000000  18823.000000     10.740000   \n",
       "\n",
       "                  y             z  \n",
       "count  53940.000000  53940.000000  \n",
       "mean       5.734526      3.538734  \n",
       "std        1.142135      0.705699  \n",
       "min        0.000000      0.000000  \n",
       "25%        4.720000      2.910000  \n",
       "50%        5.710000      3.530000  \n",
       "75%        6.540000      4.040000  \n",
       "max       58.900000     31.800000  "
      ]
     },
     "execution_count": 66,
     "metadata": {},
     "output_type": "execute_result"
    }
   ],
   "source": [
    "diamonds.describe()"
   ]
  },
  {
   "cell_type": "markdown",
   "id": "6aecb977",
   "metadata": {},
   "source": [
    "Basic Plot that you should know:\n",
    "\n",
    "- Line Graph\n",
    "- Scatter Graph\n",
    "- Bar Chart\n",
    "- Pie\n",
    "- Histogram\n",
    "- Boxplot"
   ]
  },
  {
   "cell_type": "markdown",
   "id": "4fb44065",
   "metadata": {},
   "source": [
    "## Matplotlib"
   ]
  },
  {
   "cell_type": "code",
   "execution_count": null,
   "id": "06be3362",
   "metadata": {},
   "outputs": [],
   "source": [
    "# Line graph\n",
    "\n",
    "plt.plot(iris.index,iris.sepal_length)\n",
    "plt.xlabel('Index')\n",
    "plt.ylabel('Sepal Length')\n",
    "plt.title('My first line graph.')\n",
    "plt.show() #This is important!"
   ]
  },
  {
   "cell_type": "code",
   "execution_count": 75,
   "id": "ab91d894",
   "metadata": {},
   "outputs": [
    {
     "data": {
      "image/png": "[encoded data removed]",
      "text/plain": [
       "<Figure size 640x480 with 1 Axes>"
      ]
     },
     "metadata": {},
     "output_type": "display_data"
    }
   ],
   "source": [
    "# Scatter Plot\n",
    "plt.scatter(iris.sepal_length, iris.petal_length)\n",
    "plt.show()"
   ]
  },
  {
   "cell_type": "code",
   "execution_count": 78,
   "id": "a6dfc43a",
   "metadata": {},
   "outputs": [
    {
     "data": {
      "image/png": "[encoded data removed]",
      "text/plain": [
       "<Figure size 640x480 with 1 Axes>"
      ]
     },
     "metadata": {},
     "output_type": "display_data"
    }
   ],
   "source": [
    "# Bar Chart\n",
    "\n",
    "avg = iris.groupby('species')['petal_length'].mean()\n",
    "\n",
    "plt.bar(avg.index, avg.values, color='red')\n",
    "plt.show()"
   ]
  },
  {
   "cell_type": "code",
   "execution_count": null,
   "id": "f9b91e37",
   "metadata": {},
   "outputs": [],
   "source": [
    "# Pie Chart\n",
    "\n",
    "species_count = iris.species.value_counts()\n",
    "plt.pie(species_count, labels=species_count.index, autopct='%1.1f%%')\n",
    "plt.show()"
   ]
  },
  {
   "cell_type": "code",
   "execution_count": null,
   "id": "7f9270ce",
   "metadata": {},
   "outputs": [],
   "source": [
    "# Histogram\n",
    "plt.boxplot([iris.sepal_width,iris.sepal_length])\n",
    "plt.show()"
   ]
  },
  {
   "cell_type": "markdown",
   "id": "db1f54e6",
   "metadata": {},
   "source": [
    "## Seaborn visualisation"
   ]
  },
  {
   "cell_type": "code",
   "execution_count": 85,
   "id": "6e36141f",
   "metadata": {},
   "outputs": [
    {
     "data": {
      "image/png": "[encoded data removed]",
      "text/plain": [
       "<Figure size 1117.75x1000 with 14 Axes>"
      ]
     },
     "metadata": {},
     "output_type": "display_data"
    }
   ],
   "source": [
    "# The most important seaborn plot...\n",
    "\n",
    "sns.pairplot(iris, corner=True, hue='species')\n",
    "plt.show()"
   ]
  },
  {
   "cell_type": "code",
   "execution_count": 90,
   "id": "e2fe6c92",
   "metadata": {},
   "outputs": [
    {
     "data": {
      "image/png": "[encoded data removed]",
      "text/plain": [
       "<Figure size 640x480 with 1 Axes>"
      ]
     },
     "metadata": {},
     "output_type": "display_data"
    }
   ],
   "source": [
    "# Line Graph\n",
    "sns.lineplot(data=iris, x=iris.index, y=\"sepal_length\")\n",
    "plt.show()"
   ]
  },
  {
   "cell_type": "code",
   "execution_count": 91,
   "id": "f7615eb3",
   "metadata": {},
   "outputs": [
    {
     "data": {
      "text/plain": [
       "<Axes: xlabel='sepal_length', ylabel='petal_length'>"
      ]
     },
     "execution_count": 91,
     "metadata": {},
     "output_type": "execute_result"
    },
    {
     "data": {
      "image/png": "[encoded data removed]",
      "text/plain": [
       "<Figure size 640x480 with 1 Axes>"
      ]
     },
     "metadata": {},
     "output_type": "display_data"
    }
   ],
   "source": [
    "# Scatter Plot\n",
    "sns.scatterplot(data=iris, x='sepal_length', y='petal_length', hue='species')"
   ]
  },
  {
   "cell_type": "code",
   "execution_count": 93,
   "id": "8d758969",
   "metadata": {},
   "outputs": [
    {
     "data": {
      "image/png": "[encoded data removed]",
      "text/plain": [
       "<Figure size 640x480 with 1 Axes>"
      ]
     },
     "metadata": {},
     "output_type": "display_data"
    }
   ],
   "source": [
    "# Bar Plot\n",
    "sns.barplot(x='species', y='petal_length', data=iris, estimator='mean', palette='pastel', hue='species')\n",
    "plt.show()"
   ]
  },
  {
   "cell_type": "code",
   "execution_count": 94,
   "id": "a0989ffc",
   "metadata": {},
   "outputs": [
    {
     "data": {
      "image/png": "[encoded data removed]",
      "text/plain": [
       "<Figure size 640x480 with 1 Axes>"
      ]
     },
     "metadata": {},
     "output_type": "display_data"
    }
   ],
   "source": [
    "# Histogram\n",
    "sns.histplot(iris.petal_length, bins=20, color='teal')\n",
    "plt.show()"
   ]
  },
  {
   "cell_type": "code",
   "execution_count": 96,
   "id": "1780d875",
   "metadata": {},
   "outputs": [
    {
     "data": {
      "image/png": "[encoded data removed]",
      "text/plain": [
       "<Figure size 640x480 with 1 Axes>"
      ]
     },
     "metadata": {},
     "output_type": "display_data"
    }
   ],
   "source": [
    "# Box Plot\n",
    "sns.boxplot(y='sepal_width', data=iris, color='teal')\n",
    "plt.show()"
   ]
  },
  {
   "cell_type": "markdown",
   "id": "9285aab9",
   "metadata": {},
   "source": [
    "# TASK: \n",
    "\n",
    "Find a dataset on Kaggle (a new one), visualise and summarise insights using either Seaborn or Matplotlib."
   ]
  },
  {
   "cell_type": "markdown",
   "id": "d2740e57",
   "metadata": {},
   "source": [
    "# Coffee Shop Demo (Stretch)"
   ]
  },
  {
   "cell_type": "code",
   "execution_count": 100,
   "id": "e1d90bd7",
   "metadata": {},
   "outputs": [],
   "source": [
    "coffee_menu = {\n",
    "    'flat white':2.99,\n",
    "    'hot chocolate':3.99,\n",
    "    'tea':1.99\n",
    "}"
   ]
  },
  {
   "cell_type": "code",
   "execution_count": null,
   "id": "7a78a748",
   "metadata": {},
   "outputs": [
    {
     "name": "stdout",
     "output_type": "stream",
     "text": [
      "Welcome! Here are the coffee on the menu...\n",
      "flat white\n",
      "hot chocolate\n",
      "tea\n",
      "What would you like to drink?\n",
      "Nice, I will get your TEA\n",
      "That will be £1.99\n"
     ]
    }
   ],
   "source": [
    "print('Welcome! Here are the coffee on the menu...')\n",
    "for item in coffee_menu:\n",
    "    print(item)\n",
    "\n",
    "choice = input('What would you like to drink?')\n",
    "\n",
    "if choice.lower() in coffee_menu.keys():\n",
    "    print(f'Nice, I will get your {choice}')\n",
    "    print(f'That will be £{coffee_menu[choice.lower()]}')\n",
    "else: \n",
    "    print('Sorry that is not avaialble')"
   ]
  },
  {
   "cell_type": "code",
   "execution_count": null,
   "id": "6e1e4ee7",
   "metadata": {},
   "outputs": [],
   "source": []
  }
 ],
 "metadata": {
  "kernelspec": {
   "display_name": "base",
   "language": "python",
   "name": "python3"
  },
  "language_info": {
   "codemirror_mode": {
    "name": "ipython",
    "version": 3
   },
   "file_extension": ".py",
   "mimetype": "text/x-python",
   "name": "python",
   "nbconvert_exporter": "python",
   "pygments_lexer": "ipython3",
   "version": "3.12.7"
  }
 },
 "nbformat": 4,
 "nbformat_minor": 5
}
